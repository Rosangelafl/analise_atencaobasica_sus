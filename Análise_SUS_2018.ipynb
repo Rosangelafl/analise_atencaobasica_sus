{
  "nbformat": 4,
  "nbformat_minor": 0,
  "metadata": {
    "colab": {
      "name": "Análise_SUS_2018.ipynb",
      "provenance": [],
      "collapsed_sections": [],
      "mount_file_id": "1Ups_As3nPrPYd3avc1Bec7yBdtqEMcMt",
      "authorship_tag": "ABX9TyMpGCgI/RD3+cz5C5nmLnyr",
      "include_colab_link": true
    },
    "kernelspec": {
      "name": "python3",
      "display_name": "Python 3"
    }
  },
  "cells": [
    {
      "cell_type": "markdown",
      "metadata": {
        "id": "view-in-github",
        "colab_type": "text"
      },
      "source": [
        "<a href=\"https://colab.research.google.com/github/Rosangelafl/embaixadoras_inovacao_SUS/blob/master/An%C3%A1lise_SUS_2018.ipynb\" target=\"_parent\"><img src=\"https://colab.research.google.com/assets/colab-badge.svg\" alt=\"Open In Colab\"/></a>"
      ]
    },
    {
      "cell_type": "code",
      "metadata": {
        "id": "UGpmkro7MlxJ",
        "colab_type": "code",
        "colab": {}
      },
      "source": [
        "import csv"
      ],
      "execution_count": null,
      "outputs": []
    },
    {
      "cell_type": "code",
      "metadata": {
        "id": "MJBtX_Ew7Ad7",
        "colab_type": "code",
        "colab": {
          "base_uri": "https://localhost:8080/",
          "height": 54
        },
        "outputId": "913e76d1-e16e-436e-d5bc-86cc477db73f"
      },
      "source": [
        "arquivo = open('/content/drive/My Drive/SUS_DADOS/tbEstabelecimento201809.csv', encoding='latin-1')\n",
        "leitor = csv.reader(arquivo)\n",
        "print(next(leitor))"
      ],
      "execution_count": 120,
      "outputs": [
        {
          "output_type": "stream",
          "text": [
            "['CO_UNIDADE;\"CO_CNES\";\"NU_CNPJ_MANTENEDORA\";\"TP_PFPJ\";\"NIVEL_DEP\";\"NO_RAZAO_SOCIAL\";\"NO_FANTASIA\";\"NO_LOGRADOURO\";\"NU_ENDERECO\";\"NO_COMPLEMENTO\";\"NO_BAIRRO\";\"CO_CEP\";\"CO_REGIAO_SAUDE\";\"CO_MICRO_REGIAO\";\"CO_DISTRITO_SANITARIO\";\"CO_DISTRITO_ADMINISTRATIVO\";\"NU_TELEFONE\";\"NU_FAX\";\"NO_EMAIL\";\"NU_CPF\";\"NU_CNPJ\";\"CO_ATIVIDADE\";\"CO_CLIENTELA\";\"NU_ALVARA\";\"DT_EXPEDICAO\";\"TP_ORGAO_EXPEDIDOR\";\"DT_VAL_LIC_SANI\";\"TP_LIC_SANI\";\"TP_UNIDADE\";\"CO_TURNO_ATENDIMENTO\";\"CO_ESTADO_GESTOR\";\"CO_MUNICIPIO_GESTOR\";\"TO_CHAR(DT_ATUALIZACAO', '\\'DD/MM/YYYY\\')\";\"CO_USUARIO\";\"CO_CPFDIRETORCLN\";\"REG_DIRETORCLN\";\"ST_ADESAO_FILANTROP\";\"CO_MOTIVO_DESAB\";\"NO_URL\";\"NU_LATITUDE\";\"NU_LONGITUDE\";\"TO_CHAR(DT_ATU_GEO', '\\'DD/MM/YYYY\\')\";\"NO_USUARIO_GEO\";\"CO_NATUREZA_JUR\";\"TP_ESTAB_SEMPRE_ABERTO\";\"ST_GERACREDITO_GERENTE_SGIF\";\"ST_CONEXAO_INTERNET\";\"CO_TIPO_UNIDADE\";\"NO_FANTASIA_ABREV\";\"TP_GESTAO\";\"TO_CHAR(DT_ATUALIZACAO_ORIGEM', '\\'DD/MM/YYYY\\')\"']\n"
          ],
          "name": "stdout"
        }
      ]
    },
    {
      "cell_type": "markdown",
      "metadata": {
        "id": "ibbdbbtxnP6F",
        "colab_type": "text"
      },
      "source": [
        "Dimensionando e analisando o SUS com microdados do Datasus. \n",
        "Guia para trabalhar com os dados compilados por Rodrigo Silva, do LAIS - Laboratório de Inovação Tecnológica em Saúde [https://github.com/rdsilva], oficina do CodaBr 2018."
      ]
    },
    {
      "cell_type": "code",
      "metadata": {
        "id": "Z3Hk5xOSoIwb",
        "colab_type": "code",
        "colab": {}
      },
      "source": [
        "import pandas as pd\n",
        "import numpy as np\n"
      ],
      "execution_count": 121,
      "outputs": []
    },
    {
      "cell_type": "markdown",
      "metadata": {
        "id": "PyJ-jFY5onLX",
        "colab_type": "text"
      },
      "source": [
        "Trabalhando com |CNES|Cadastro Nacional de Estabelecimentos de Saúde|Estabelecimentos, Profissionais, Equipamentos, Vínculos, etc\n",
        "\n",
        "Dimensionando os Estabelecimentos de Saúde, dados outubro de 2018"
      ]
    },
    {
      "cell_type": "code",
      "metadata": {
        "id": "f-lwLXJ6ovj9",
        "colab_type": "code",
        "colab": {
          "base_uri": "https://localhost:8080/",
          "height": 328
        },
        "outputId": "df54222d-7941-43d2-f681-3591d703ab47"
      },
      "source": [
        "cnes = pd.read_csv('/content/drive/My Drive/SUS_DADOS/tbEstabelecimento201809.csv', sep=';', encoding='Latin-1',\n",
        "                   error_bad_lines=False, quotechar='\"', low_memory=False, usecols=['CO_UNIDADE', 'CO_CNES','CO_ATIVIDADE','TP_UNIDADE', 'CO_REGIAO_SAUDE', 'TP_UNIDADE', \n",
        "                                                                                   'CO_TURNO_ATENDIMENTO', 'CO_MUNICIPIO_GESTOR','TP_ESTAB_SEMPRE_ABERTO','TP_GESTAO'])\n",
        "cnes.head(2).T\n"
      ],
      "execution_count": 122,
      "outputs": [
        {
          "output_type": "execute_result",
          "data": {
            "text/html": [
              "<div>\n",
              "<style scoped>\n",
              "    .dataframe tbody tr th:only-of-type {\n",
              "        vertical-align: middle;\n",
              "    }\n",
              "\n",
              "    .dataframe tbody tr th {\n",
              "        vertical-align: top;\n",
              "    }\n",
              "\n",
              "    .dataframe thead th {\n",
              "        text-align: right;\n",
              "    }\n",
              "</style>\n",
              "<table border=\"1\" class=\"dataframe\">\n",
              "  <thead>\n",
              "    <tr style=\"text-align: right;\">\n",
              "      <th></th>\n",
              "      <th>0</th>\n",
              "      <th>1</th>\n",
              "    </tr>\n",
              "  </thead>\n",
              "  <tbody>\n",
              "    <tr>\n",
              "      <th>CO_UNIDADE</th>\n",
              "      <td>2928707453280</td>\n",
              "      <td>2301307450184</td>\n",
              "    </tr>\n",
              "    <tr>\n",
              "      <th>CO_CNES</th>\n",
              "      <td>7453280</td>\n",
              "      <td>7450184</td>\n",
              "    </tr>\n",
              "    <tr>\n",
              "      <th>CO_REGIAO_SAUDE</th>\n",
              "      <td>4</td>\n",
              "      <td>20</td>\n",
              "    </tr>\n",
              "    <tr>\n",
              "      <th>CO_ATIVIDADE</th>\n",
              "      <td>4</td>\n",
              "      <td>4</td>\n",
              "    </tr>\n",
              "    <tr>\n",
              "      <th>TP_UNIDADE</th>\n",
              "      <td>1</td>\n",
              "      <td>74</td>\n",
              "    </tr>\n",
              "    <tr>\n",
              "      <th>CO_TURNO_ATENDIMENTO</th>\n",
              "      <td>4</td>\n",
              "      <td>3</td>\n",
              "    </tr>\n",
              "    <tr>\n",
              "      <th>CO_MUNICIPIO_GESTOR</th>\n",
              "      <td>292870</td>\n",
              "      <td>230130</td>\n",
              "    </tr>\n",
              "    <tr>\n",
              "      <th>TP_ESTAB_SEMPRE_ABERTO</th>\n",
              "      <td>NaN</td>\n",
              "      <td>N</td>\n",
              "    </tr>\n",
              "    <tr>\n",
              "      <th>TP_GESTAO</th>\n",
              "      <td>M</td>\n",
              "      <td>M</td>\n",
              "    </tr>\n",
              "  </tbody>\n",
              "</table>\n",
              "</div>"
            ],
            "text/plain": [
              "                                    0              1\n",
              "CO_UNIDADE              2928707453280  2301307450184\n",
              "CO_CNES                       7453280        7450184\n",
              "CO_REGIAO_SAUDE                     4             20\n",
              "CO_ATIVIDADE                        4              4\n",
              "TP_UNIDADE                          1             74\n",
              "CO_TURNO_ATENDIMENTO                4              3\n",
              "CO_MUNICIPIO_GESTOR            292870         230130\n",
              "TP_ESTAB_SEMPRE_ABERTO            NaN              N\n",
              "TP_GESTAO                           M              M"
            ]
          },
          "metadata": {
            "tags": []
          },
          "execution_count": 122
        }
      ]
    },
    {
      "cell_type": "code",
      "metadata": {
        "id": "feJTfhMPGxr_",
        "colab_type": "code",
        "colab": {}
      },
      "source": [
        "cnes_red = pd.read_csv('/content/drive/My Drive/SUS_DADOS/tbEstabelecimento201809.csv', sep=';', encoding='Latin-1',\n",
        "                   error_bad_lines=False, quotechar='\"', low_memory=False, usecols=['CO_UNIDADE', 'CO_CNES','CO_ATIVIDADE','TP_UNIDADE', 'CO_REGIAO_SAUDE', 'TP_UNIDADE', \n",
        "                                                                                   'CO_TURNO_ATENDIMENTO', 'CO_MUNICIPIO_GESTOR','TP_ESTAB_SEMPRE_ABERTO','TP_GESTAO'])"
      ],
      "execution_count": 123,
      "outputs": []
    },
    {
      "cell_type": "code",
      "metadata": {
        "id": "PTdlw2waqdyT",
        "colab_type": "code",
        "colab": {
          "base_uri": "https://localhost:8080/",
          "height": 204
        },
        "outputId": "5542e3e5-ab9c-4fe1-9211-2607f1d5994a"
      },
      "source": [
        "cnes_red.head()"
      ],
      "execution_count": 124,
      "outputs": [
        {
          "output_type": "execute_result",
          "data": {
            "text/html": [
              "<div>\n",
              "<style scoped>\n",
              "    .dataframe tbody tr th:only-of-type {\n",
              "        vertical-align: middle;\n",
              "    }\n",
              "\n",
              "    .dataframe tbody tr th {\n",
              "        vertical-align: top;\n",
              "    }\n",
              "\n",
              "    .dataframe thead th {\n",
              "        text-align: right;\n",
              "    }\n",
              "</style>\n",
              "<table border=\"1\" class=\"dataframe\">\n",
              "  <thead>\n",
              "    <tr style=\"text-align: right;\">\n",
              "      <th></th>\n",
              "      <th>CO_UNIDADE</th>\n",
              "      <th>CO_CNES</th>\n",
              "      <th>CO_REGIAO_SAUDE</th>\n",
              "      <th>CO_ATIVIDADE</th>\n",
              "      <th>TP_UNIDADE</th>\n",
              "      <th>CO_TURNO_ATENDIMENTO</th>\n",
              "      <th>CO_MUNICIPIO_GESTOR</th>\n",
              "      <th>TP_ESTAB_SEMPRE_ABERTO</th>\n",
              "      <th>TP_GESTAO</th>\n",
              "    </tr>\n",
              "  </thead>\n",
              "  <tbody>\n",
              "    <tr>\n",
              "      <th>0</th>\n",
              "      <td>2928707453280</td>\n",
              "      <td>7453280</td>\n",
              "      <td>4</td>\n",
              "      <td>4</td>\n",
              "      <td>1</td>\n",
              "      <td>4.0</td>\n",
              "      <td>292870</td>\n",
              "      <td>NaN</td>\n",
              "      <td>M</td>\n",
              "    </tr>\n",
              "    <tr>\n",
              "      <th>1</th>\n",
              "      <td>2301307450184</td>\n",
              "      <td>7450184</td>\n",
              "      <td>20</td>\n",
              "      <td>4</td>\n",
              "      <td>74</td>\n",
              "      <td>3.0</td>\n",
              "      <td>230130</td>\n",
              "      <td>N</td>\n",
              "      <td>M</td>\n",
              "    </tr>\n",
              "    <tr>\n",
              "      <th>2</th>\n",
              "      <td>2307307462956</td>\n",
              "      <td>7462956</td>\n",
              "      <td>21</td>\n",
              "      <td>4</td>\n",
              "      <td>22</td>\n",
              "      <td>3.0</td>\n",
              "      <td>230730</td>\n",
              "      <td>N</td>\n",
              "      <td>M</td>\n",
              "    </tr>\n",
              "    <tr>\n",
              "      <th>3</th>\n",
              "      <td>2313407462476</td>\n",
              "      <td>7462476</td>\n",
              "      <td>13</td>\n",
              "      <td>4</td>\n",
              "      <td>2</td>\n",
              "      <td>3.0</td>\n",
              "      <td>231340</td>\n",
              "      <td>N</td>\n",
              "      <td>M</td>\n",
              "    </tr>\n",
              "    <tr>\n",
              "      <th>4</th>\n",
              "      <td>2510107416490</td>\n",
              "      <td>7416490</td>\n",
              "      <td>004</td>\n",
              "      <td>4</td>\n",
              "      <td>71</td>\n",
              "      <td>3.0</td>\n",
              "      <td>251010</td>\n",
              "      <td>N</td>\n",
              "      <td>M</td>\n",
              "    </tr>\n",
              "  </tbody>\n",
              "</table>\n",
              "</div>"
            ],
            "text/plain": [
              "      CO_UNIDADE  CO_CNES  ... TP_ESTAB_SEMPRE_ABERTO  TP_GESTAO\n",
              "0  2928707453280  7453280  ...                    NaN          M\n",
              "1  2301307450184  7450184  ...                      N          M\n",
              "2  2307307462956  7462956  ...                      N          M\n",
              "3  2313407462476  7462476  ...                      N          M\n",
              "4  2510107416490  7416490  ...                      N          M\n",
              "\n",
              "[5 rows x 9 columns]"
            ]
          },
          "metadata": {
            "tags": []
          },
          "execution_count": 124
        }
      ]
    },
    {
      "cell_type": "code",
      "metadata": {
        "id": "JuRdbstYHL79",
        "colab_type": "code",
        "colab": {
          "base_uri": "https://localhost:8080/",
          "height": 85
        },
        "outputId": "d447f5e5-a2a3-4d3b-fb1d-40f31a2cd0c3"
      },
      "source": [
        "cnes_red.columns"
      ],
      "execution_count": 125,
      "outputs": [
        {
          "output_type": "execute_result",
          "data": {
            "text/plain": [
              "Index(['CO_UNIDADE', 'CO_CNES', 'CO_REGIAO_SAUDE', 'CO_ATIVIDADE',\n",
              "       'TP_UNIDADE', 'CO_TURNO_ATENDIMENTO', 'CO_MUNICIPIO_GESTOR',\n",
              "       'TP_ESTAB_SEMPRE_ABERTO', 'TP_GESTAO'],\n",
              "      dtype='object')"
            ]
          },
          "metadata": {
            "tags": []
          },
          "execution_count": 125
        }
      ]
    },
    {
      "cell_type": "code",
      "metadata": {
        "id": "Yn3lEs7SxPLK",
        "colab_type": "code",
        "colab": {
          "base_uri": "https://localhost:8080/",
          "height": 289
        },
        "outputId": "4d0a508f-2b2e-40a0-9af9-652b4a38c0c8"
      },
      "source": [
        "cnes_red.info()"
      ],
      "execution_count": 126,
      "outputs": [
        {
          "output_type": "stream",
          "text": [
            "<class 'pandas.core.frame.DataFrame'>\n",
            "RangeIndex: 364701 entries, 0 to 364700\n",
            "Data columns (total 9 columns):\n",
            " #   Column                  Non-Null Count   Dtype  \n",
            "---  ------                  --------------   -----  \n",
            " 0   CO_UNIDADE              364701 non-null  object \n",
            " 1   CO_CNES                 364701 non-null  int64  \n",
            " 2   CO_REGIAO_SAUDE         192424 non-null  object \n",
            " 3   CO_ATIVIDADE            364701 non-null  int64  \n",
            " 4   TP_UNIDADE              364701 non-null  int64  \n",
            " 5   CO_TURNO_ATENDIMENTO    364006 non-null  float64\n",
            " 6   CO_MUNICIPIO_GESTOR     364701 non-null  int64  \n",
            " 7   TP_ESTAB_SEMPRE_ABERTO  198787 non-null  object \n",
            " 8   TP_GESTAO               364701 non-null  object \n",
            "dtypes: float64(1), int64(4), object(4)\n",
            "memory usage: 25.0+ MB\n"
          ],
          "name": "stdout"
        }
      ]
    },
    {
      "cell_type": "code",
      "metadata": {
        "id": "lZU8QYytSFpR",
        "colab_type": "code",
        "colab": {}
      },
      "source": [
        "cnes_red.rename(columns={'TP_UNIDADE' : 'cod_unidades'}, inplace=True)"
      ],
      "execution_count": 150,
      "outputs": []
    },
    {
      "cell_type": "code",
      "metadata": {
        "id": "ezfEnBGb46r8",
        "colab_type": "code",
        "colab": {
          "base_uri": "https://localhost:8080/",
          "height": 663
        },
        "outputId": "8c211426-28a2-45b0-f408-6dbf57274891"
      },
      "source": [
        "cnes_red['cod_unidades'].value_counts()"
      ],
      "execution_count": 151,
      "outputs": [
        {
          "output_type": "execute_result",
          "data": {
            "text/plain": [
              "22    180265\n",
              "36     55028\n",
              "2      39253\n",
              "39     27822\n",
              "1      11328\n",
              "4       8770\n",
              "68      6145\n",
              "5       5795\n",
              "42      4769\n",
              "43      3573\n",
              "70      3100\n",
              "50      3048\n",
              "74      2635\n",
              "40      1497\n",
              "81      1304\n",
              "73      1284\n",
              "7       1245\n",
              "71      1200\n",
              "72      1148\n",
              "77       750\n",
              "62       731\n",
              "15       703\n",
              "60       695\n",
              "20       448\n",
              "80       447\n",
              "69       409\n",
              "83       373\n",
              "76       238\n",
              "82       139\n",
              "64       139\n",
              "21       127\n",
              "75        89\n",
              "32        63\n",
              "78        39\n",
              "67        38\n",
              "61        33\n",
              "79        31\n",
              "Name: cod_unidades, dtype: int64"
            ]
          },
          "metadata": {
            "tags": []
          },
          "execution_count": 151
        }
      ]
    },
    {
      "cell_type": "markdown",
      "metadata": {
        "id": "sHCibfK0PesN",
        "colab_type": "text"
      },
      "source": [
        "Para traduzir o código do Tipo de unidade, temos que ler o arquivo cod_atividade.csv e fazer as correspondências e/ou filtros"
      ]
    },
    {
      "cell_type": "code",
      "metadata": {
        "id": "vuWYaH6V5wki",
        "colab_type": "code",
        "colab": {
          "base_uri": "https://localhost:8080/",
          "height": 1000
        },
        "outputId": "8d414375-9de4-44c1-d9d2-4a5c0ba2c3a7"
      },
      "source": [
        "codigo_atividade = pd.read_csv('/content/drive/My Drive/SUS_DADOS/cod_atividade.csv', sep=',', quotechar='\"', error_bad_lines=False, encoding='utf8')\n",
        "codigo_atividade"
      ],
      "execution_count": 135,
      "outputs": [
        {
          "output_type": "execute_result",
          "data": {
            "text/html": [
              "<div>\n",
              "<style scoped>\n",
              "    .dataframe tbody tr th:only-of-type {\n",
              "        vertical-align: middle;\n",
              "    }\n",
              "\n",
              "    .dataframe tbody tr th {\n",
              "        vertical-align: top;\n",
              "    }\n",
              "\n",
              "    .dataframe thead th {\n",
              "        text-align: right;\n",
              "    }\n",
              "</style>\n",
              "<table border=\"1\" class=\"dataframe\">\n",
              "  <thead>\n",
              "    <tr style=\"text-align: right;\">\n",
              "      <th></th>\n",
              "      <th>cod_unidades</th>\n",
              "      <th>descricao</th>\n",
              "      <th>total</th>\n",
              "    </tr>\n",
              "  </thead>\n",
              "  <tbody>\n",
              "    <tr>\n",
              "      <th>0</th>\n",
              "      <td>1</td>\n",
              "      <td>POSTO DE SAUDE</td>\n",
              "      <td>11328</td>\n",
              "    </tr>\n",
              "    <tr>\n",
              "      <th>1</th>\n",
              "      <td>2</td>\n",
              "      <td>CENTRO DE SAUDE/UNIDADE BASICA</td>\n",
              "      <td>39253</td>\n",
              "    </tr>\n",
              "    <tr>\n",
              "      <th>2</th>\n",
              "      <td>4</td>\n",
              "      <td>POLICLINICA</td>\n",
              "      <td>8770</td>\n",
              "    </tr>\n",
              "    <tr>\n",
              "      <th>3</th>\n",
              "      <td>5</td>\n",
              "      <td>HOSPITAL GERAL</td>\n",
              "      <td>5795</td>\n",
              "    </tr>\n",
              "    <tr>\n",
              "      <th>4</th>\n",
              "      <td>7</td>\n",
              "      <td>HOSPITAL ESPECIALIZADO</td>\n",
              "      <td>1245</td>\n",
              "    </tr>\n",
              "    <tr>\n",
              "      <th>5</th>\n",
              "      <td>15</td>\n",
              "      <td>UNIDADE MISTA</td>\n",
              "      <td>703</td>\n",
              "    </tr>\n",
              "    <tr>\n",
              "      <th>6</th>\n",
              "      <td>20</td>\n",
              "      <td>PRONTO SOCORRO GERAL</td>\n",
              "      <td>344</td>\n",
              "    </tr>\n",
              "    <tr>\n",
              "      <th>7</th>\n",
              "      <td>21</td>\n",
              "      <td>PRONTO SOCORRO ESPECIALIZADO</td>\n",
              "      <td>127</td>\n",
              "    </tr>\n",
              "    <tr>\n",
              "      <th>8</th>\n",
              "      <td>22</td>\n",
              "      <td>CONSULTORIO ISOLADO</td>\n",
              "      <td>180265</td>\n",
              "    </tr>\n",
              "    <tr>\n",
              "      <th>9</th>\n",
              "      <td>32</td>\n",
              "      <td>UNIDADE MOVEL FLUVIAL</td>\n",
              "      <td>63</td>\n",
              "    </tr>\n",
              "    <tr>\n",
              "      <th>10</th>\n",
              "      <td>36</td>\n",
              "      <td>CLINICA/CENTRO DE ESPECIALIDADE</td>\n",
              "      <td>55028</td>\n",
              "    </tr>\n",
              "    <tr>\n",
              "      <th>11</th>\n",
              "      <td>39</td>\n",
              "      <td>UNIDADE DE APOIO DIAGNOSE E TERAPIA (SADT ISOL...</td>\n",
              "      <td>27822</td>\n",
              "    </tr>\n",
              "    <tr>\n",
              "      <th>12</th>\n",
              "      <td>40</td>\n",
              "      <td>UNIDADE MOVEL TERRESTRE</td>\n",
              "      <td>1497</td>\n",
              "    </tr>\n",
              "    <tr>\n",
              "      <th>13</th>\n",
              "      <td>42</td>\n",
              "      <td>UNIDADE MOVEL DE NIVEL PRE-HOSPITALAR NA AREA ...</td>\n",
              "      <td>4769</td>\n",
              "    </tr>\n",
              "    <tr>\n",
              "      <th>14</th>\n",
              "      <td>43</td>\n",
              "      <td>FARMACIA</td>\n",
              "      <td>3573</td>\n",
              "    </tr>\n",
              "    <tr>\n",
              "      <th>15</th>\n",
              "      <td>50</td>\n",
              "      <td>UNIDADE DE VIGILANCIA EM SAUDE</td>\n",
              "      <td>3048</td>\n",
              "    </tr>\n",
              "    <tr>\n",
              "      <th>16</th>\n",
              "      <td>60</td>\n",
              "      <td>COOPERATIVA OU EMPRESA DE CESSAO DE TRABALHADO...</td>\n",
              "      <td>695</td>\n",
              "    </tr>\n",
              "    <tr>\n",
              "      <th>17</th>\n",
              "      <td>61</td>\n",
              "      <td>CENTRO DE PARTO NORMAL � ISOLADO</td>\n",
              "      <td>33</td>\n",
              "    </tr>\n",
              "    <tr>\n",
              "      <th>18</th>\n",
              "      <td>62</td>\n",
              "      <td>HOSPITAL/DIA � ISOLADO</td>\n",
              "      <td>647</td>\n",
              "    </tr>\n",
              "    <tr>\n",
              "      <th>19</th>\n",
              "      <td>67</td>\n",
              "      <td>LABORATORIO CENTRAL DE SAUDE PUBLICA LACEN</td>\n",
              "      <td>33</td>\n",
              "    </tr>\n",
              "    <tr>\n",
              "      <th>20</th>\n",
              "      <td>68</td>\n",
              "      <td>CENTRAL DE GESTAO EM SAUDE</td>\n",
              "      <td>6145</td>\n",
              "    </tr>\n",
              "    <tr>\n",
              "      <th>21</th>\n",
              "      <td>69</td>\n",
              "      <td>CENTRO DE ATENCAO HEMOTERAPIA E OU HEMATOLOGICA</td>\n",
              "      <td>409</td>\n",
              "    </tr>\n",
              "    <tr>\n",
              "      <th>22</th>\n",
              "      <td>70</td>\n",
              "      <td>CENTRO DE ATENCAO PSICOSSOCIAL</td>\n",
              "      <td>3100</td>\n",
              "    </tr>\n",
              "    <tr>\n",
              "      <th>23</th>\n",
              "      <td>71</td>\n",
              "      <td>CENTRO DE APOIO A SAUDE DA FAMILIA</td>\n",
              "      <td>3100</td>\n",
              "    </tr>\n",
              "    <tr>\n",
              "      <th>24</th>\n",
              "      <td>72</td>\n",
              "      <td>UNIDADE DE ATENCAO A SAUDE INDIGENA</td>\n",
              "      <td>1148</td>\n",
              "    </tr>\n",
              "    <tr>\n",
              "      <th>25</th>\n",
              "      <td>73</td>\n",
              "      <td>PRONTO ATENDIMENTO</td>\n",
              "      <td>1284</td>\n",
              "    </tr>\n",
              "    <tr>\n",
              "      <th>26</th>\n",
              "      <td>74</td>\n",
              "      <td>POLO ACADEMIA DA SAUDE</td>\n",
              "      <td>2635</td>\n",
              "    </tr>\n",
              "    <tr>\n",
              "      <th>27</th>\n",
              "      <td>75</td>\n",
              "      <td>TELESSAUDE</td>\n",
              "      <td>89</td>\n",
              "    </tr>\n",
              "    <tr>\n",
              "      <th>28</th>\n",
              "      <td>76</td>\n",
              "      <td>CENTRAL DE REGULACAO MEDICA DAS URGENCIAS</td>\n",
              "      <td>238</td>\n",
              "    </tr>\n",
              "    <tr>\n",
              "      <th>29</th>\n",
              "      <td>77</td>\n",
              "      <td>SERVICO DE ATENCAO DOMICILIAR ISOLADO(HOME CARE)</td>\n",
              "      <td>39</td>\n",
              "    </tr>\n",
              "    <tr>\n",
              "      <th>30</th>\n",
              "      <td>78</td>\n",
              "      <td>UNIDADE DE ATENCAO EM REGIME RESIDENCIAL</td>\n",
              "      <td>39</td>\n",
              "    </tr>\n",
              "    <tr>\n",
              "      <th>31</th>\n",
              "      <td>79</td>\n",
              "      <td>OFICINA ORTOPEDICA</td>\n",
              "      <td>31</td>\n",
              "    </tr>\n",
              "    <tr>\n",
              "      <th>32</th>\n",
              "      <td>80</td>\n",
              "      <td>LABORATORIO DE SAUDE PUBLICA</td>\n",
              "      <td>447</td>\n",
              "    </tr>\n",
              "    <tr>\n",
              "      <th>33</th>\n",
              "      <td>81</td>\n",
              "      <td>CENTRAL DE REGULACAO DO ACESSO</td>\n",
              "      <td>1304</td>\n",
              "    </tr>\n",
              "    <tr>\n",
              "      <th>34</th>\n",
              "      <td>82</td>\n",
              "      <td>CENTRAL DE NOTIFICACAO,CAPTACAO E DISTRIB DE O...</td>\n",
              "      <td>139</td>\n",
              "    </tr>\n",
              "    <tr>\n",
              "      <th>35</th>\n",
              "      <td>83</td>\n",
              "      <td>POLO DE PREVENCAO DE DOENCAS E AGRAVOS E PROMO...</td>\n",
              "      <td>373</td>\n",
              "    </tr>\n",
              "  </tbody>\n",
              "</table>\n",
              "</div>"
            ],
            "text/plain": [
              "    cod_unidades                                          descricao   total\n",
              "0              1                                     POSTO DE SAUDE   11328\n",
              "1              2                     CENTRO DE SAUDE/UNIDADE BASICA   39253\n",
              "2              4                                        POLICLINICA    8770\n",
              "3              5                                     HOSPITAL GERAL    5795\n",
              "4              7                             HOSPITAL ESPECIALIZADO    1245\n",
              "5             15                                      UNIDADE MISTA     703\n",
              "6             20                               PRONTO SOCORRO GERAL     344\n",
              "7             21                       PRONTO SOCORRO ESPECIALIZADO     127\n",
              "8             22                                CONSULTORIO ISOLADO  180265\n",
              "9             32                              UNIDADE MOVEL FLUVIAL      63\n",
              "10            36                    CLINICA/CENTRO DE ESPECIALIDADE   55028\n",
              "11            39  UNIDADE DE APOIO DIAGNOSE E TERAPIA (SADT ISOL...   27822\n",
              "12            40                            UNIDADE MOVEL TERRESTRE    1497\n",
              "13            42  UNIDADE MOVEL DE NIVEL PRE-HOSPITALAR NA AREA ...    4769\n",
              "14            43                                           FARMACIA    3573\n",
              "15            50                     UNIDADE DE VIGILANCIA EM SAUDE    3048\n",
              "16            60  COOPERATIVA OU EMPRESA DE CESSAO DE TRABALHADO...     695\n",
              "17            61                   CENTRO DE PARTO NORMAL � ISOLADO      33\n",
              "18            62                             HOSPITAL/DIA � ISOLADO     647\n",
              "19            67         LABORATORIO CENTRAL DE SAUDE PUBLICA LACEN      33\n",
              "20            68                         CENTRAL DE GESTAO EM SAUDE    6145\n",
              "21            69    CENTRO DE ATENCAO HEMOTERAPIA E OU HEMATOLOGICA     409\n",
              "22            70                     CENTRO DE ATENCAO PSICOSSOCIAL    3100\n",
              "23            71                 CENTRO DE APOIO A SAUDE DA FAMILIA    3100\n",
              "24            72                UNIDADE DE ATENCAO A SAUDE INDIGENA    1148\n",
              "25            73                                 PRONTO ATENDIMENTO    1284\n",
              "26            74                             POLO ACADEMIA DA SAUDE    2635\n",
              "27            75                                         TELESSAUDE      89\n",
              "28            76          CENTRAL DE REGULACAO MEDICA DAS URGENCIAS     238\n",
              "29            77   SERVICO DE ATENCAO DOMICILIAR ISOLADO(HOME CARE)      39\n",
              "30            78           UNIDADE DE ATENCAO EM REGIME RESIDENCIAL      39\n",
              "31            79                                 OFICINA ORTOPEDICA      31\n",
              "32            80                       LABORATORIO DE SAUDE PUBLICA     447\n",
              "33            81                     CENTRAL DE REGULACAO DO ACESSO    1304\n",
              "34            82  CENTRAL DE NOTIFICACAO,CAPTACAO E DISTRIB DE O...     139\n",
              "35            83  POLO DE PREVENCAO DE DOENCAS E AGRAVOS E PROMO...     373"
            ]
          },
          "metadata": {
            "tags": []
          },
          "execution_count": 135
        }
      ]
    },
    {
      "cell_type": "markdown",
      "metadata": {
        "id": "j9jUafFIT71P",
        "colab_type": "text"
      },
      "source": [
        "Dropando a coluna total, podemos fazer a contagem. O que interessa é o códigos dos tipos de unidades que não mudam, enquanto o total pode mudar em outro conjunto de dados"
      ]
    },
    {
      "cell_type": "code",
      "metadata": {
        "id": "1-HQHN9rP7rv",
        "colab_type": "code",
        "colab": {
          "base_uri": "https://localhost:8080/",
          "height": 1000
        },
        "outputId": "9f32bd6d-2869-4444-d59b-8a822147c458"
      },
      "source": [
        "codigo_atividade = codigo_atividade.drop(columns='total')\n",
        "codigo_atividade\n"
      ],
      "execution_count": 164,
      "outputs": [
        {
          "output_type": "execute_result",
          "data": {
            "text/html": [
              "<div>\n",
              "<style scoped>\n",
              "    .dataframe tbody tr th:only-of-type {\n",
              "        vertical-align: middle;\n",
              "    }\n",
              "\n",
              "    .dataframe tbody tr th {\n",
              "        vertical-align: top;\n",
              "    }\n",
              "\n",
              "    .dataframe thead th {\n",
              "        text-align: right;\n",
              "    }\n",
              "</style>\n",
              "<table border=\"1\" class=\"dataframe\">\n",
              "  <thead>\n",
              "    <tr style=\"text-align: right;\">\n",
              "      <th></th>\n",
              "      <th>cod_unidades</th>\n",
              "      <th>descricao</th>\n",
              "    </tr>\n",
              "  </thead>\n",
              "  <tbody>\n",
              "    <tr>\n",
              "      <th>0</th>\n",
              "      <td>1</td>\n",
              "      <td>POSTO DE SAUDE</td>\n",
              "    </tr>\n",
              "    <tr>\n",
              "      <th>1</th>\n",
              "      <td>2</td>\n",
              "      <td>CENTRO DE SAUDE/UNIDADE BASICA</td>\n",
              "    </tr>\n",
              "    <tr>\n",
              "      <th>2</th>\n",
              "      <td>4</td>\n",
              "      <td>POLICLINICA</td>\n",
              "    </tr>\n",
              "    <tr>\n",
              "      <th>3</th>\n",
              "      <td>5</td>\n",
              "      <td>HOSPITAL GERAL</td>\n",
              "    </tr>\n",
              "    <tr>\n",
              "      <th>4</th>\n",
              "      <td>7</td>\n",
              "      <td>HOSPITAL ESPECIALIZADO</td>\n",
              "    </tr>\n",
              "    <tr>\n",
              "      <th>5</th>\n",
              "      <td>15</td>\n",
              "      <td>UNIDADE MISTA</td>\n",
              "    </tr>\n",
              "    <tr>\n",
              "      <th>6</th>\n",
              "      <td>20</td>\n",
              "      <td>PRONTO SOCORRO GERAL</td>\n",
              "    </tr>\n",
              "    <tr>\n",
              "      <th>7</th>\n",
              "      <td>21</td>\n",
              "      <td>PRONTO SOCORRO ESPECIALIZADO</td>\n",
              "    </tr>\n",
              "    <tr>\n",
              "      <th>8</th>\n",
              "      <td>22</td>\n",
              "      <td>CONSULTORIO ISOLADO</td>\n",
              "    </tr>\n",
              "    <tr>\n",
              "      <th>9</th>\n",
              "      <td>32</td>\n",
              "      <td>UNIDADE MOVEL FLUVIAL</td>\n",
              "    </tr>\n",
              "    <tr>\n",
              "      <th>10</th>\n",
              "      <td>36</td>\n",
              "      <td>CLINICA/CENTRO DE ESPECIALIDADE</td>\n",
              "    </tr>\n",
              "    <tr>\n",
              "      <th>11</th>\n",
              "      <td>39</td>\n",
              "      <td>UNIDADE DE APOIO DIAGNOSE E TERAPIA (SADT ISOL...</td>\n",
              "    </tr>\n",
              "    <tr>\n",
              "      <th>12</th>\n",
              "      <td>40</td>\n",
              "      <td>UNIDADE MOVEL TERRESTRE</td>\n",
              "    </tr>\n",
              "    <tr>\n",
              "      <th>13</th>\n",
              "      <td>42</td>\n",
              "      <td>UNIDADE MOVEL DE NIVEL PRE-HOSPITALAR NA AREA ...</td>\n",
              "    </tr>\n",
              "    <tr>\n",
              "      <th>14</th>\n",
              "      <td>43</td>\n",
              "      <td>FARMACIA</td>\n",
              "    </tr>\n",
              "    <tr>\n",
              "      <th>15</th>\n",
              "      <td>50</td>\n",
              "      <td>UNIDADE DE VIGILANCIA EM SAUDE</td>\n",
              "    </tr>\n",
              "    <tr>\n",
              "      <th>16</th>\n",
              "      <td>60</td>\n",
              "      <td>COOPERATIVA OU EMPRESA DE CESSAO DE TRABALHADO...</td>\n",
              "    </tr>\n",
              "    <tr>\n",
              "      <th>17</th>\n",
              "      <td>61</td>\n",
              "      <td>CENTRO DE PARTO NORMAL � ISOLADO</td>\n",
              "    </tr>\n",
              "    <tr>\n",
              "      <th>18</th>\n",
              "      <td>62</td>\n",
              "      <td>HOSPITAL/DIA � ISOLADO</td>\n",
              "    </tr>\n",
              "    <tr>\n",
              "      <th>19</th>\n",
              "      <td>67</td>\n",
              "      <td>LABORATORIO CENTRAL DE SAUDE PUBLICA LACEN</td>\n",
              "    </tr>\n",
              "    <tr>\n",
              "      <th>20</th>\n",
              "      <td>68</td>\n",
              "      <td>CENTRAL DE GESTAO EM SAUDE</td>\n",
              "    </tr>\n",
              "    <tr>\n",
              "      <th>21</th>\n",
              "      <td>69</td>\n",
              "      <td>CENTRO DE ATENCAO HEMOTERAPIA E OU HEMATOLOGICA</td>\n",
              "    </tr>\n",
              "    <tr>\n",
              "      <th>22</th>\n",
              "      <td>70</td>\n",
              "      <td>CENTRO DE ATENCAO PSICOSSOCIAL</td>\n",
              "    </tr>\n",
              "    <tr>\n",
              "      <th>23</th>\n",
              "      <td>71</td>\n",
              "      <td>CENTRO DE APOIO A SAUDE DA FAMILIA</td>\n",
              "    </tr>\n",
              "    <tr>\n",
              "      <th>24</th>\n",
              "      <td>72</td>\n",
              "      <td>UNIDADE DE ATENCAO A SAUDE INDIGENA</td>\n",
              "    </tr>\n",
              "    <tr>\n",
              "      <th>25</th>\n",
              "      <td>73</td>\n",
              "      <td>PRONTO ATENDIMENTO</td>\n",
              "    </tr>\n",
              "    <tr>\n",
              "      <th>26</th>\n",
              "      <td>74</td>\n",
              "      <td>POLO ACADEMIA DA SAUDE</td>\n",
              "    </tr>\n",
              "    <tr>\n",
              "      <th>27</th>\n",
              "      <td>75</td>\n",
              "      <td>TELESSAUDE</td>\n",
              "    </tr>\n",
              "    <tr>\n",
              "      <th>28</th>\n",
              "      <td>76</td>\n",
              "      <td>CENTRAL DE REGULACAO MEDICA DAS URGENCIAS</td>\n",
              "    </tr>\n",
              "    <tr>\n",
              "      <th>29</th>\n",
              "      <td>77</td>\n",
              "      <td>SERVICO DE ATENCAO DOMICILIAR ISOLADO(HOME CARE)</td>\n",
              "    </tr>\n",
              "    <tr>\n",
              "      <th>30</th>\n",
              "      <td>78</td>\n",
              "      <td>UNIDADE DE ATENCAO EM REGIME RESIDENCIAL</td>\n",
              "    </tr>\n",
              "    <tr>\n",
              "      <th>31</th>\n",
              "      <td>79</td>\n",
              "      <td>OFICINA ORTOPEDICA</td>\n",
              "    </tr>\n",
              "    <tr>\n",
              "      <th>32</th>\n",
              "      <td>80</td>\n",
              "      <td>LABORATORIO DE SAUDE PUBLICA</td>\n",
              "    </tr>\n",
              "    <tr>\n",
              "      <th>33</th>\n",
              "      <td>81</td>\n",
              "      <td>CENTRAL DE REGULACAO DO ACESSO</td>\n",
              "    </tr>\n",
              "    <tr>\n",
              "      <th>34</th>\n",
              "      <td>82</td>\n",
              "      <td>CENTRAL DE NOTIFICACAO,CAPTACAO E DISTRIB DE O...</td>\n",
              "    </tr>\n",
              "    <tr>\n",
              "      <th>35</th>\n",
              "      <td>83</td>\n",
              "      <td>POLO DE PREVENCAO DE DOENCAS E AGRAVOS E PROMO...</td>\n",
              "    </tr>\n",
              "  </tbody>\n",
              "</table>\n",
              "</div>"
            ],
            "text/plain": [
              "    cod_unidades                                          descricao\n",
              "0              1                                     POSTO DE SAUDE\n",
              "1              2                     CENTRO DE SAUDE/UNIDADE BASICA\n",
              "2              4                                        POLICLINICA\n",
              "3              5                                     HOSPITAL GERAL\n",
              "4              7                             HOSPITAL ESPECIALIZADO\n",
              "5             15                                      UNIDADE MISTA\n",
              "6             20                               PRONTO SOCORRO GERAL\n",
              "7             21                       PRONTO SOCORRO ESPECIALIZADO\n",
              "8             22                                CONSULTORIO ISOLADO\n",
              "9             32                              UNIDADE MOVEL FLUVIAL\n",
              "10            36                    CLINICA/CENTRO DE ESPECIALIDADE\n",
              "11            39  UNIDADE DE APOIO DIAGNOSE E TERAPIA (SADT ISOL...\n",
              "12            40                            UNIDADE MOVEL TERRESTRE\n",
              "13            42  UNIDADE MOVEL DE NIVEL PRE-HOSPITALAR NA AREA ...\n",
              "14            43                                           FARMACIA\n",
              "15            50                     UNIDADE DE VIGILANCIA EM SAUDE\n",
              "16            60  COOPERATIVA OU EMPRESA DE CESSAO DE TRABALHADO...\n",
              "17            61                   CENTRO DE PARTO NORMAL � ISOLADO\n",
              "18            62                             HOSPITAL/DIA � ISOLADO\n",
              "19            67         LABORATORIO CENTRAL DE SAUDE PUBLICA LACEN\n",
              "20            68                         CENTRAL DE GESTAO EM SAUDE\n",
              "21            69    CENTRO DE ATENCAO HEMOTERAPIA E OU HEMATOLOGICA\n",
              "22            70                     CENTRO DE ATENCAO PSICOSSOCIAL\n",
              "23            71                 CENTRO DE APOIO A SAUDE DA FAMILIA\n",
              "24            72                UNIDADE DE ATENCAO A SAUDE INDIGENA\n",
              "25            73                                 PRONTO ATENDIMENTO\n",
              "26            74                             POLO ACADEMIA DA SAUDE\n",
              "27            75                                         TELESSAUDE\n",
              "28            76          CENTRAL DE REGULACAO MEDICA DAS URGENCIAS\n",
              "29            77   SERVICO DE ATENCAO DOMICILIAR ISOLADO(HOME CARE)\n",
              "30            78           UNIDADE DE ATENCAO EM REGIME RESIDENCIAL\n",
              "31            79                                 OFICINA ORTOPEDICA\n",
              "32            80                       LABORATORIO DE SAUDE PUBLICA\n",
              "33            81                     CENTRAL DE REGULACAO DO ACESSO\n",
              "34            82  CENTRAL DE NOTIFICACAO,CAPTACAO E DISTRIB DE O...\n",
              "35            83  POLO DE PREVENCAO DE DOENCAS E AGRAVOS E PROMO..."
            ]
          },
          "metadata": {
            "tags": []
          },
          "execution_count": 164
        }
      ]
    },
    {
      "cell_type": "markdown",
      "metadata": {
        "id": "wgZQDw5CWg9H",
        "colab_type": "text"
      },
      "source": [
        "UNIDADE DE ATENCAO A SAUDE INDIGENA = 72 e UNIDADE MOVEL FLUVIAL = 32\n",
        "Vamos contar a quantidade de unidades de saúde indígena e o qtd de návios hospitais para a população ribeirinha."
      ]
    },
    {
      "cell_type": "code",
      "metadata": {
        "id": "IAt0u1SmVwKQ",
        "colab_type": "code",
        "colab": {}
      },
      "source": [
        "indigena = cnes_red[cnes_red['cod_unidades'] == 72]"
      ],
      "execution_count": 153,
      "outputs": []
    },
    {
      "cell_type": "code",
      "metadata": {
        "id": "8krBoqi9i720",
        "colab_type": "code",
        "colab": {
          "base_uri": "https://localhost:8080/",
          "height": 187
        },
        "outputId": "505d5713-224a-46d6-a92b-fda7bc84fea4"
      },
      "source": [
        "indigena.count()"
      ],
      "execution_count": 154,
      "outputs": [
        {
          "output_type": "execute_result",
          "data": {
            "text/plain": [
              "CO_UNIDADE                1148\n",
              "CO_CNES                   1148\n",
              "CO_REGIAO_SAUDE            298\n",
              "CO_ATIVIDADE              1148\n",
              "cod_unidades              1148\n",
              "CO_TURNO_ATENDIMENTO      1148\n",
              "CO_MUNICIPIO_GESTOR       1148\n",
              "TP_ESTAB_SEMPRE_ABERTO     927\n",
              "TP_GESTAO                 1148\n",
              "dtype: int64"
            ]
          },
          "metadata": {
            "tags": []
          },
          "execution_count": 154
        }
      ]
    },
    {
      "cell_type": "code",
      "metadata": {
        "id": "dO9CM5poi8FQ",
        "colab_type": "code",
        "colab": {
          "base_uri": "https://localhost:8080/",
          "height": 282
        },
        "outputId": "bc93b422-11db-4e56-c7fd-bcaea29803c2"
      },
      "source": [
        "#Quantas unidades de atendimento indigenas tem atendimento 24 horas?\n",
        "indigena.groupby('TP_ESTAB_SEMPRE_ABERTO').size().sort_values(ascending=False).plot(kind='barh')"
      ],
      "execution_count": 155,
      "outputs": [
        {
          "output_type": "execute_result",
          "data": {
            "text/plain": [
              "<matplotlib.axes._subplots.AxesSubplot at 0x7feeb5c58e10>"
            ]
          },
          "metadata": {
            "tags": []
          },
          "execution_count": 155
        },
        {
          "output_type": "display_data",
          "data": {
            "image/png": "[encoded data removed]",
            "text/plain": [
              "<Figure size 432x288 with 1 Axes>"
            ]
          },
          "metadata": {
            "tags": [],
            "needs_background": "light"
          }
        }
      ]
    },
    {
      "cell_type": "code",
      "metadata": {
        "id": "UzAtU35Clrs6",
        "colab_type": "code",
        "colab": {
          "base_uri": "https://localhost:8080/",
          "height": 85
        },
        "outputId": "498e88f7-4fd6-42eb-cd9a-f3165b37316f"
      },
      "source": [
        "indigena['TP_GESTAO'].value_counts()"
      ],
      "execution_count": 156,
      "outputs": [
        {
          "output_type": "execute_result",
          "data": {
            "text/plain": [
              "M    1145\n",
              "D       2\n",
              "E       1\n",
              "Name: TP_GESTAO, dtype: int64"
            ]
          },
          "metadata": {
            "tags": []
          },
          "execution_count": 156
        }
      ]
    },
    {
      "cell_type": "code",
      "metadata": {
        "id": "ofCxOFuzPdTv",
        "colab_type": "code",
        "colab": {
          "base_uri": "https://localhost:8080/",
          "height": 439
        },
        "outputId": "6aaad2ab-f895-4dca-ca01-5b24c8a292ad"
      },
      "source": [
        "#idem para barcos hospitais\n",
        "barcos = cnes_red[cnes_red['cod_unidades'] == 32]\n",
        "barcos"
      ],
      "execution_count": 158,
      "outputs": [
        {
          "output_type": "execute_result",
          "data": {
            "text/html": [
              "<div>\n",
              "<style scoped>\n",
              "    .dataframe tbody tr th:only-of-type {\n",
              "        vertical-align: middle;\n",
              "    }\n",
              "\n",
              "    .dataframe tbody tr th {\n",
              "        vertical-align: top;\n",
              "    }\n",
              "\n",
              "    .dataframe thead th {\n",
              "        text-align: right;\n",
              "    }\n",
              "</style>\n",
              "<table border=\"1\" class=\"dataframe\">\n",
              "  <thead>\n",
              "    <tr style=\"text-align: right;\">\n",
              "      <th></th>\n",
              "      <th>CO_UNIDADE</th>\n",
              "      <th>CO_CNES</th>\n",
              "      <th>CO_REGIAO_SAUDE</th>\n",
              "      <th>CO_ATIVIDADE</th>\n",
              "      <th>cod_unidades</th>\n",
              "      <th>CO_TURNO_ATENDIMENTO</th>\n",
              "      <th>CO_MUNICIPIO_GESTOR</th>\n",
              "      <th>TP_ESTAB_SEMPRE_ABERTO</th>\n",
              "      <th>TP_GESTAO</th>\n",
              "    </tr>\n",
              "  </thead>\n",
              "  <tbody>\n",
              "    <tr>\n",
              "      <th>818</th>\n",
              "      <td>1501407383436</td>\n",
              "      <td>7383436</td>\n",
              "      <td>001</td>\n",
              "      <td>4</td>\n",
              "      <td>32</td>\n",
              "      <td>4.0</td>\n",
              "      <td>150140</td>\n",
              "      <td>NaN</td>\n",
              "      <td>E</td>\n",
              "    </tr>\n",
              "    <tr>\n",
              "      <th>1107</th>\n",
              "      <td>1503305293251</td>\n",
              "      <td>5293251</td>\n",
              "      <td>006</td>\n",
              "      <td>4</td>\n",
              "      <td>32</td>\n",
              "      <td>3.0</td>\n",
              "      <td>150330</td>\n",
              "      <td>N</td>\n",
              "      <td>M</td>\n",
              "    </tr>\n",
              "    <tr>\n",
              "      <th>6420</th>\n",
              "      <td>1505807167288</td>\n",
              "      <td>7167288</td>\n",
              "      <td>NaN</td>\n",
              "      <td>4</td>\n",
              "      <td>32</td>\n",
              "      <td>3.0</td>\n",
              "      <td>150580</td>\n",
              "      <td>N</td>\n",
              "      <td>M</td>\n",
              "    </tr>\n",
              "    <tr>\n",
              "      <th>6954</th>\n",
              "      <td>1302609222537</td>\n",
              "      <td>9222537</td>\n",
              "      <td>001</td>\n",
              "      <td>4</td>\n",
              "      <td>32</td>\n",
              "      <td>3.0</td>\n",
              "      <td>130260</td>\n",
              "      <td>N</td>\n",
              "      <td>E</td>\n",
              "    </tr>\n",
              "    <tr>\n",
              "      <th>7271</th>\n",
              "      <td>1303909184694</td>\n",
              "      <td>9184694</td>\n",
              "      <td>NaN</td>\n",
              "      <td>4</td>\n",
              "      <td>32</td>\n",
              "      <td>5.0</td>\n",
              "      <td>130390</td>\n",
              "      <td>N</td>\n",
              "      <td>M</td>\n",
              "    </tr>\n",
              "    <tr>\n",
              "      <th>...</th>\n",
              "      <td>...</td>\n",
              "      <td>...</td>\n",
              "      <td>...</td>\n",
              "      <td>...</td>\n",
              "      <td>...</td>\n",
              "      <td>...</td>\n",
              "      <td>...</td>\n",
              "      <td>...</td>\n",
              "      <td>...</td>\n",
              "    </tr>\n",
              "    <tr>\n",
              "      <th>359446</th>\n",
              "      <td>1304209503307</td>\n",
              "      <td>9503307</td>\n",
              "      <td>NaN</td>\n",
              "      <td>4</td>\n",
              "      <td>32</td>\n",
              "      <td>5.0</td>\n",
              "      <td>130420</td>\n",
              "      <td>N</td>\n",
              "      <td>M</td>\n",
              "    </tr>\n",
              "    <tr>\n",
              "      <th>360983</th>\n",
              "      <td>1302409451862</td>\n",
              "      <td>9451862</td>\n",
              "      <td>NaN</td>\n",
              "      <td>4</td>\n",
              "      <td>32</td>\n",
              "      <td>4.0</td>\n",
              "      <td>130240</td>\n",
              "      <td>N</td>\n",
              "      <td>M</td>\n",
              "    </tr>\n",
              "    <tr>\n",
              "      <th>364003</th>\n",
              "      <td>1302609222553</td>\n",
              "      <td>9222553</td>\n",
              "      <td>001</td>\n",
              "      <td>4</td>\n",
              "      <td>32</td>\n",
              "      <td>3.0</td>\n",
              "      <td>130260</td>\n",
              "      <td>N</td>\n",
              "      <td>E</td>\n",
              "    </tr>\n",
              "    <tr>\n",
              "      <th>364555</th>\n",
              "      <td>1301959312544</td>\n",
              "      <td>9312544</td>\n",
              "      <td>NaN</td>\n",
              "      <td>4</td>\n",
              "      <td>32</td>\n",
              "      <td>3.0</td>\n",
              "      <td>130195</td>\n",
              "      <td>N</td>\n",
              "      <td>M</td>\n",
              "    </tr>\n",
              "    <tr>\n",
              "      <th>364556</th>\n",
              "      <td>1500109294805</td>\n",
              "      <td>9294805</td>\n",
              "      <td>6</td>\n",
              "      <td>4</td>\n",
              "      <td>32</td>\n",
              "      <td>3.0</td>\n",
              "      <td>150010</td>\n",
              "      <td>N</td>\n",
              "      <td>M</td>\n",
              "    </tr>\n",
              "  </tbody>\n",
              "</table>\n",
              "<p>63 rows × 9 columns</p>\n",
              "</div>"
            ],
            "text/plain": [
              "           CO_UNIDADE  CO_CNES  ... TP_ESTAB_SEMPRE_ABERTO  TP_GESTAO\n",
              "818     1501407383436  7383436  ...                    NaN          E\n",
              "1107    1503305293251  5293251  ...                      N          M\n",
              "6420    1505807167288  7167288  ...                      N          M\n",
              "6954    1302609222537  9222537  ...                      N          E\n",
              "7271    1303909184694  9184694  ...                      N          M\n",
              "...               ...      ...  ...                    ...        ...\n",
              "359446  1304209503307  9503307  ...                      N          M\n",
              "360983  1302409451862  9451862  ...                      N          M\n",
              "364003  1302609222553  9222553  ...                      N          E\n",
              "364555  1301959312544  9312544  ...                      N          M\n",
              "364556  1500109294805  9294805  ...                      N          M\n",
              "\n",
              "[63 rows x 9 columns]"
            ]
          },
          "metadata": {
            "tags": []
          },
          "execution_count": 158
        }
      ]
    },
    {
      "cell_type": "code",
      "metadata": {
        "id": "4IqdoT1hPdj0",
        "colab_type": "code",
        "colab": {
          "base_uri": "https://localhost:8080/",
          "height": 282
        },
        "outputId": "9b34da85-17d4-4c15-f69c-fa7f1f2876f9"
      },
      "source": [
        "barco['TP_GESTAO'].value_counts().sort_values(ascending=False).plot(kind='barh')"
      ],
      "execution_count": 159,
      "outputs": [
        {
          "output_type": "execute_result",
          "data": {
            "text/plain": [
              "<matplotlib.axes._subplots.AxesSubplot at 0x7feeb5bc2588>"
            ]
          },
          "metadata": {
            "tags": []
          },
          "execution_count": 159
        },
        {
          "output_type": "display_data",
          "data": {
            "image/png": "[encoded data removed]",
            "text/plain": [
              "<Figure size 432x288 with 1 Axes>"
            ]
          },
          "metadata": {
            "tags": [],
            "needs_background": "light"
          }
        }
      ]
    },
    {
      "cell_type": "markdown",
      "metadata": {
        "id": "G6xP6rUIoBWp",
        "colab_type": "text"
      },
      "source": [
        "É fácil filtrar para saber a qtd de unidades de saúde por tipo de atendimento."
      ]
    },
    {
      "cell_type": "markdown",
      "metadata": {
        "id": "hrwIx8ifTvzv",
        "colab_type": "text"
      },
      "source": [
        "Merged dos datasets cnes_red e codigo_atividade"
      ]
    },
    {
      "cell_type": "code",
      "metadata": {
        "id": "D5vVRDmET8jU",
        "colab_type": "code",
        "colab": {
          "base_uri": "https://localhost:8080/",
          "height": 85
        },
        "outputId": "1105cb6d-201e-4621-d5a8-44001694eaa2"
      },
      "source": [
        "#Lembrando as colunas de ambos\n",
        "cnes_red.columns"
      ],
      "execution_count": 165,
      "outputs": [
        {
          "output_type": "execute_result",
          "data": {
            "text/plain": [
              "Index(['CO_UNIDADE', 'CO_CNES', 'CO_REGIAO_SAUDE', 'CO_ATIVIDADE',\n",
              "       'cod_unidades', 'CO_TURNO_ATENDIMENTO', 'CO_MUNICIPIO_GESTOR',\n",
              "       'TP_ESTAB_SEMPRE_ABERTO', 'TP_GESTAO'],\n",
              "      dtype='object')"
            ]
          },
          "metadata": {
            "tags": []
          },
          "execution_count": 165
        }
      ]
    },
    {
      "cell_type": "code",
      "metadata": {
        "id": "kM-B9C7hT8Ts",
        "colab_type": "code",
        "colab": {
          "base_uri": "https://localhost:8080/",
          "height": 34
        },
        "outputId": "a3573b79-a3f0-46ae-8490-577c3c707fce"
      },
      "source": [
        "codigo_atividade.columns"
      ],
      "execution_count": 166,
      "outputs": [
        {
          "output_type": "execute_result",
          "data": {
            "text/plain": [
              "Index(['cod_unidades', 'descricao'], dtype='object')"
            ]
          },
          "metadata": {
            "tags": []
          },
          "execution_count": 166
        }
      ]
    },
    {
      "cell_type": "code",
      "metadata": {
        "id": "oC2NavOUT8GH",
        "colab_type": "code",
        "colab": {
          "base_uri": "https://localhost:8080/",
          "height": 394
        },
        "outputId": "531447c0-3684-4b96-ce6a-70b6314a90f4"
      },
      "source": [
        "\n",
        "\n",
        "df_cnes = pd.merge(cnes_red, codigo_atividade, on='cod_unidades')\n",
        "df_cnes.head()"
      ],
      "execution_count": 167,
      "outputs": [
        {
          "output_type": "execute_result",
          "data": {
            "text/html": [
              "<div>\n",
              "<style scoped>\n",
              "    .dataframe tbody tr th:only-of-type {\n",
              "        vertical-align: middle;\n",
              "    }\n",
              "\n",
              "    .dataframe tbody tr th {\n",
              "        vertical-align: top;\n",
              "    }\n",
              "\n",
              "    .dataframe thead th {\n",
              "        text-align: right;\n",
              "    }\n",
              "</style>\n",
              "<table border=\"1\" class=\"dataframe\">\n",
              "  <thead>\n",
              "    <tr style=\"text-align: right;\">\n",
              "      <th></th>\n",
              "      <th>CO_UNIDADE</th>\n",
              "      <th>CO_CNES</th>\n",
              "      <th>CO_REGIAO_SAUDE</th>\n",
              "      <th>CO_ATIVIDADE</th>\n",
              "      <th>cod_unidades</th>\n",
              "      <th>CO_TURNO_ATENDIMENTO</th>\n",
              "      <th>CO_MUNICIPIO_GESTOR</th>\n",
              "      <th>TP_ESTAB_SEMPRE_ABERTO</th>\n",
              "      <th>TP_GESTAO</th>\n",
              "      <th>descricao</th>\n",
              "    </tr>\n",
              "  </thead>\n",
              "  <tbody>\n",
              "    <tr>\n",
              "      <th>0</th>\n",
              "      <td>2928707453280</td>\n",
              "      <td>7453280</td>\n",
              "      <td>4</td>\n",
              "      <td>4</td>\n",
              "      <td>1</td>\n",
              "      <td>4.0</td>\n",
              "      <td>292870</td>\n",
              "      <td>NaN</td>\n",
              "      <td>M</td>\n",
              "      <td>POSTO DE SAUDE</td>\n",
              "    </tr>\n",
              "    <tr>\n",
              "      <th>1</th>\n",
              "      <td>2202707466803</td>\n",
              "      <td>7466803</td>\n",
              "      <td>NaN</td>\n",
              "      <td>4</td>\n",
              "      <td>1</td>\n",
              "      <td>4.0</td>\n",
              "      <td>220270</td>\n",
              "      <td>N</td>\n",
              "      <td>M</td>\n",
              "      <td>POSTO DE SAUDE</td>\n",
              "    </tr>\n",
              "    <tr>\n",
              "      <th>2</th>\n",
              "      <td>3106207467591</td>\n",
              "      <td>7467591</td>\n",
              "      <td>NaN</td>\n",
              "      <td>4</td>\n",
              "      <td>1</td>\n",
              "      <td>3.0</td>\n",
              "      <td>310620</td>\n",
              "      <td>NaN</td>\n",
              "      <td>M</td>\n",
              "      <td>POSTO DE SAUDE</td>\n",
              "    </tr>\n",
              "    <tr>\n",
              "      <th>3</th>\n",
              "      <td>3161107465823</td>\n",
              "      <td>7465823</td>\n",
              "      <td>030</td>\n",
              "      <td>4</td>\n",
              "      <td>1</td>\n",
              "      <td>3.0</td>\n",
              "      <td>316110</td>\n",
              "      <td>NaN</td>\n",
              "      <td>M</td>\n",
              "      <td>POSTO DE SAUDE</td>\n",
              "    </tr>\n",
              "    <tr>\n",
              "      <th>4</th>\n",
              "      <td>3504907462484</td>\n",
              "      <td>7462484</td>\n",
              "      <td>17</td>\n",
              "      <td>4</td>\n",
              "      <td>1</td>\n",
              "      <td>3.0</td>\n",
              "      <td>350490</td>\n",
              "      <td>N</td>\n",
              "      <td>M</td>\n",
              "      <td>POSTO DE SAUDE</td>\n",
              "    </tr>\n",
              "  </tbody>\n",
              "</table>\n",
              "</div>"
            ],
            "text/plain": [
              "      CO_UNIDADE  CO_CNES  ... TP_GESTAO       descricao\n",
              "0  2928707453280  7453280  ...         M  POSTO DE SAUDE\n",
              "1  2202707466803  7466803  ...         M  POSTO DE SAUDE\n",
              "2  3106207467591  7467591  ...         M  POSTO DE SAUDE\n",
              "3  3161107465823  7465823  ...         M  POSTO DE SAUDE\n",
              "4  3504907462484  7462484  ...         M  POSTO DE SAUDE\n",
              "\n",
              "[5 rows x 10 columns]"
            ]
          },
          "metadata": {
            "tags": []
          },
          "execution_count": 167
        }
      ]
    },
    {
      "cell_type": "code",
      "metadata": {
        "id": "XAtRTFs6T76P",
        "colab_type": "code",
        "colab": {
          "base_uri": "https://localhost:8080/",
          "height": 306
        },
        "outputId": "928dea88-c81c-4c30-df82-fba9b4cbd35e"
      },
      "source": [
        "df_cnes.info()"
      ],
      "execution_count": 168,
      "outputs": [
        {
          "output_type": "stream",
          "text": [
            "<class 'pandas.core.frame.DataFrame'>\n",
            "Int64Index: 364562 entries, 0 to 364561\n",
            "Data columns (total 10 columns):\n",
            " #   Column                  Non-Null Count   Dtype  \n",
            "---  ------                  --------------   -----  \n",
            " 0   CO_UNIDADE              364562 non-null  object \n",
            " 1   CO_CNES                 364562 non-null  int64  \n",
            " 2   CO_REGIAO_SAUDE         192370 non-null  object \n",
            " 3   CO_ATIVIDADE            364562 non-null  int64  \n",
            " 4   cod_unidades            364562 non-null  int64  \n",
            " 5   CO_TURNO_ATENDIMENTO    363867 non-null  float64\n",
            " 6   CO_MUNICIPIO_GESTOR     364562 non-null  int64  \n",
            " 7   TP_ESTAB_SEMPRE_ABERTO  198781 non-null  object \n",
            " 8   TP_GESTAO               364562 non-null  object \n",
            " 9   descricao               364562 non-null  object \n",
            "dtypes: float64(1), int64(4), object(5)\n",
            "memory usage: 30.6+ MB\n"
          ],
          "name": "stdout"
        }
      ]
    },
    {
      "cell_type": "code",
      "metadata": {
        "id": "7kJCU1-bVzn-",
        "colab_type": "code",
        "colab": {
          "base_uri": "https://localhost:8080/",
          "height": 646
        },
        "outputId": "846fa775-ea95-4605-dcf3-d9b0ffdcc1e2"
      },
      "source": [
        "df_cnes['descricao'].value_counts()"
      ],
      "execution_count": 171,
      "outputs": [
        {
          "output_type": "execute_result",
          "data": {
            "text/plain": [
              "CONSULTORIO ISOLADO                                             180265\n",
              "CLINICA/CENTRO DE ESPECIALIDADE                                  55028\n",
              "CENTRO DE SAUDE/UNIDADE BASICA                                   39253\n",
              "UNIDADE DE APOIO DIAGNOSE E TERAPIA (SADT ISOLADO)               27822\n",
              "POSTO DE SAUDE                                                   11328\n",
              "POLICLINICA                                                       8770\n",
              "CENTRAL DE GESTAO EM SAUDE                                        6145\n",
              "HOSPITAL GERAL                                                    5795\n",
              "UNIDADE MOVEL DE NIVEL PRE-HOSPITALAR NA AREA DE URGENCIA         4769\n",
              "FARMACIA                                                          3573\n",
              "CENTRO DE ATENCAO PSICOSSOCIAL                                    3100\n",
              "UNIDADE DE VIGILANCIA EM SAUDE                                    3048\n",
              "POLO ACADEMIA DA SAUDE                                            2635\n",
              "UNIDADE MOVEL TERRESTRE                                           1497\n",
              "CENTRAL DE REGULACAO DO ACESSO                                    1304\n",
              "PRONTO ATENDIMENTO                                                1284\n",
              "HOSPITAL ESPECIALIZADO                                            1245\n",
              "CENTRO DE APOIO A SAUDE DA FAMILIA                                1200\n",
              "UNIDADE DE ATENCAO A SAUDE INDIGENA                               1148\n",
              "SERVICO DE ATENCAO DOMICILIAR ISOLADO(HOME CARE)                   750\n",
              "HOSPITAL/DIA � ISOLADO                                             731\n",
              "UNIDADE MISTA                                                      703\n",
              "COOPERATIVA OU EMPRESA DE CESSAO DE TRABALHADORES NA SAUDE         695\n",
              "PRONTO SOCORRO GERAL                                               448\n",
              "LABORATORIO DE SAUDE PUBLICA                                       447\n",
              "CENTRO DE ATENCAO HEMOTERAPIA E OU HEMATOLOGICA                    409\n",
              "POLO DE PREVENCAO DE DOENCAS E AGRAVOS E PROMOCAO DA SAUDE         373\n",
              "CENTRAL DE REGULACAO MEDICA DAS URGENCIAS                          238\n",
              "CENTRAL DE NOTIFICACAO,CAPTACAO E DISTRIB DE ORGAOS ESTADUAL       139\n",
              "PRONTO SOCORRO ESPECIALIZADO                                       127\n",
              "TELESSAUDE                                                          89\n",
              "UNIDADE MOVEL FLUVIAL                                               63\n",
              "UNIDADE DE ATENCAO EM REGIME RESIDENCIAL                            39\n",
              "LABORATORIO CENTRAL DE SAUDE PUBLICA LACEN                          38\n",
              "CENTRO DE PARTO NORMAL � ISOLADO                                    33\n",
              "OFICINA ORTOPEDICA                                                  31\n",
              "Name: descricao, dtype: int64"
            ]
          },
          "metadata": {
            "tags": []
          },
          "execution_count": 171
        }
      ]
    },
    {
      "cell_type": "code",
      "metadata": {
        "id": "HmY4sPq-V2fc",
        "colab_type": "code",
        "colab": {
          "base_uri": "https://localhost:8080/",
          "height": 238
        },
        "outputId": "3148e2d1-c1b6-430b-d6e3-a66540aab43f"
      },
      "source": [
        "df_cnes.groupby('descricao')['CO_CNES'].value_counts()"
      ],
      "execution_count": 175,
      "outputs": [
        {
          "output_type": "execute_result",
          "data": {
            "text/plain": [
              "descricao                   CO_CNES\n",
              "CENTRAL DE GESTAO EM SAUDE  14117      1\n",
              "                            16608      1\n",
              "                            17620      1\n",
              "                            22012      1\n",
              "                            24309      1\n",
              "                                      ..\n",
              "UNIDADE MOVEL TERRESTRE     9614478    1\n",
              "                            9615148    1\n",
              "                            9617418    1\n",
              "                            9622136    1\n",
              "                            9624961    1\n",
              "Name: CO_CNES, Length: 364562, dtype: int64"
            ]
          },
          "metadata": {
            "tags": []
          },
          "execution_count": 175
        }
      ]
    },
    {
      "cell_type": "markdown",
      "metadata": {
        "id": "Zd9t8vxrQ-Nx",
        "colab_type": "text"
      },
      "source": [
        "Agora vamos focar na atenção especializada e ver quantos leitos existiam no Brasil em outubro 2018(data dos dados)"
      ]
    },
    {
      "cell_type": "code",
      "metadata": {
        "id": "fjIwKx1Goi0t",
        "colab_type": "code",
        "colab": {
          "base_uri": "https://localhost:8080/",
          "height": 224
        },
        "outputId": "5f9043da-de0b-471b-b4ea-23fbb5522752"
      },
      "source": [
        "leitos = pd.read_csv('/content/drive/My Drive/SUS_DADOS/Cópia de rlEstabComplementar201809.csv', sep=';', encoding='Latin-1',\n",
        "                   error_bad_lines=False, quotechar='\"', low_memory=False)\n",
        "leitos.head()"
      ],
      "execution_count": 176,
      "outputs": [
        {
          "output_type": "execute_result",
          "data": {
            "text/html": [
              "<div>\n",
              "<style scoped>\n",
              "    .dataframe tbody tr th:only-of-type {\n",
              "        vertical-align: middle;\n",
              "    }\n",
              "\n",
              "    .dataframe tbody tr th {\n",
              "        vertical-align: top;\n",
              "    }\n",
              "\n",
              "    .dataframe thead th {\n",
              "        text-align: right;\n",
              "    }\n",
              "</style>\n",
              "<table border=\"1\" class=\"dataframe\">\n",
              "  <thead>\n",
              "    <tr style=\"text-align: right;\">\n",
              "      <th></th>\n",
              "      <th>CO_UNIDADE</th>\n",
              "      <th>CO_LEITO</th>\n",
              "      <th>CO_TIPO_LEITO</th>\n",
              "      <th>TP_ALTACOMP</th>\n",
              "      <th>QT_EXIST</th>\n",
              "      <th>QT_CONTR</th>\n",
              "      <th>QT_SUS</th>\n",
              "      <th>TO_CHAR(DT_ATUALIZACAO,'DD/MM/YYYY')</th>\n",
              "      <th>CO_USUARIO</th>\n",
              "      <th>TO_CHAR(DT_ATUALIZACAO_ORIGEM,'DD/MM/YYYY')</th>\n",
              "    </tr>\n",
              "  </thead>\n",
              "  <tbody>\n",
              "    <tr>\n",
              "      <th>0</th>\n",
              "      <td>5208006587518</td>\n",
              "      <td>32</td>\n",
              "      <td>2</td>\n",
              "      <td>NaN</td>\n",
              "      <td>1</td>\n",
              "      <td>NaN</td>\n",
              "      <td>0</td>\n",
              "      <td>11/06/2013</td>\n",
              "      <td>SMSFSA</td>\n",
              "      <td>10/09/2010</td>\n",
              "    </tr>\n",
              "    <tr>\n",
              "      <th>1</th>\n",
              "      <td>5208006587518</td>\n",
              "      <td>42</td>\n",
              "      <td>2</td>\n",
              "      <td>NaN</td>\n",
              "      <td>1</td>\n",
              "      <td>NaN</td>\n",
              "      <td>0</td>\n",
              "      <td>11/06/2013</td>\n",
              "      <td>SMSFSA</td>\n",
              "      <td>10/09/2010</td>\n",
              "    </tr>\n",
              "    <tr>\n",
              "      <th>2</th>\n",
              "      <td>5208006587518</td>\n",
              "      <td>45</td>\n",
              "      <td>5</td>\n",
              "      <td>NaN</td>\n",
              "      <td>1</td>\n",
              "      <td>NaN</td>\n",
              "      <td>0</td>\n",
              "      <td>11/06/2013</td>\n",
              "      <td>SMSFSA</td>\n",
              "      <td>10/09/2010</td>\n",
              "    </tr>\n",
              "    <tr>\n",
              "      <th>3</th>\n",
              "      <td>5208006587518</td>\n",
              "      <td>48</td>\n",
              "      <td>6</td>\n",
              "      <td>NaN</td>\n",
              "      <td>1</td>\n",
              "      <td>NaN</td>\n",
              "      <td>0</td>\n",
              "      <td>11/06/2013</td>\n",
              "      <td>SMSFSA</td>\n",
              "      <td>10/09/2010</td>\n",
              "    </tr>\n",
              "    <tr>\n",
              "      <th>4</th>\n",
              "      <td>3552202708566</td>\n",
              "      <td>81</td>\n",
              "      <td>3</td>\n",
              "      <td>NaN</td>\n",
              "      <td>9</td>\n",
              "      <td>NaN</td>\n",
              "      <td>0</td>\n",
              "      <td>27/07/2018</td>\n",
              "      <td>NLIMA</td>\n",
              "      <td>23/03/2013</td>\n",
              "    </tr>\n",
              "  </tbody>\n",
              "</table>\n",
              "</div>"
            ],
            "text/plain": [
              "      CO_UNIDADE  ...  TO_CHAR(DT_ATUALIZACAO_ORIGEM,'DD/MM/YYYY')\n",
              "0  5208006587518  ...                                   10/09/2010\n",
              "1  5208006587518  ...                                   10/09/2010\n",
              "2  5208006587518  ...                                   10/09/2010\n",
              "3  5208006587518  ...                                   10/09/2010\n",
              "4  3552202708566  ...                                   23/03/2013\n",
              "\n",
              "[5 rows x 10 columns]"
            ]
          },
          "metadata": {
            "tags": []
          },
          "execution_count": 176
        }
      ]
    },
    {
      "cell_type": "code",
      "metadata": {
        "id": "_kcT7T-6qsLO",
        "colab_type": "code",
        "colab": {
          "base_uri": "https://localhost:8080/",
          "height": 187
        },
        "outputId": "0f8bcad1-4f2f-483a-e668-b054fa0af9cc"
      },
      "source": [
        "leitos.columns.tolist()"
      ],
      "execution_count": 177,
      "outputs": [
        {
          "output_type": "execute_result",
          "data": {
            "text/plain": [
              "['CO_UNIDADE',\n",
              " 'CO_LEITO',\n",
              " 'CO_TIPO_LEITO',\n",
              " 'TP_ALTACOMP',\n",
              " 'QT_EXIST',\n",
              " 'QT_CONTR',\n",
              " 'QT_SUS',\n",
              " \"TO_CHAR(DT_ATUALIZACAO,'DD/MM/YYYY')\",\n",
              " 'CO_USUARIO',\n",
              " \"TO_CHAR(DT_ATUALIZACAO_ORIGEM,'DD/MM/YYYY')\"]"
            ]
          },
          "metadata": {
            "tags": []
          },
          "execution_count": 177
        }
      ]
    },
    {
      "cell_type": "code",
      "metadata": {
        "id": "YyDkhDrVYcyg",
        "colab_type": "code",
        "colab": {
          "base_uri": "https://localhost:8080/",
          "height": 204
        },
        "outputId": "e1f034eb-25e1-45e5-80c2-ae08a035c439"
      },
      "source": [
        "leitos = leitos[['CO_UNIDADE','CO_LEITO','QT_EXIST', 'QT_CONTR', 'QT_SUS']]\n",
        "leitos.head()"
      ],
      "execution_count": 186,
      "outputs": [
        {
          "output_type": "execute_result",
          "data": {
            "text/html": [
              "<div>\n",
              "<style scoped>\n",
              "    .dataframe tbody tr th:only-of-type {\n",
              "        vertical-align: middle;\n",
              "    }\n",
              "\n",
              "    .dataframe tbody tr th {\n",
              "        vertical-align: top;\n",
              "    }\n",
              "\n",
              "    .dataframe thead th {\n",
              "        text-align: right;\n",
              "    }\n",
              "</style>\n",
              "<table border=\"1\" class=\"dataframe\">\n",
              "  <thead>\n",
              "    <tr style=\"text-align: right;\">\n",
              "      <th></th>\n",
              "      <th>CO_UNIDADE</th>\n",
              "      <th>CO_LEITO</th>\n",
              "      <th>QT_EXIST</th>\n",
              "      <th>QT_CONTR</th>\n",
              "      <th>QT_SUS</th>\n",
              "    </tr>\n",
              "  </thead>\n",
              "  <tbody>\n",
              "    <tr>\n",
              "      <th>0</th>\n",
              "      <td>5208006587518</td>\n",
              "      <td>32</td>\n",
              "      <td>1</td>\n",
              "      <td>NaN</td>\n",
              "      <td>0</td>\n",
              "    </tr>\n",
              "    <tr>\n",
              "      <th>1</th>\n",
              "      <td>5208006587518</td>\n",
              "      <td>42</td>\n",
              "      <td>1</td>\n",
              "      <td>NaN</td>\n",
              "      <td>0</td>\n",
              "    </tr>\n",
              "    <tr>\n",
              "      <th>2</th>\n",
              "      <td>5208006587518</td>\n",
              "      <td>45</td>\n",
              "      <td>1</td>\n",
              "      <td>NaN</td>\n",
              "      <td>0</td>\n",
              "    </tr>\n",
              "    <tr>\n",
              "      <th>3</th>\n",
              "      <td>5208006587518</td>\n",
              "      <td>48</td>\n",
              "      <td>1</td>\n",
              "      <td>NaN</td>\n",
              "      <td>0</td>\n",
              "    </tr>\n",
              "    <tr>\n",
              "      <th>4</th>\n",
              "      <td>3552202708566</td>\n",
              "      <td>81</td>\n",
              "      <td>9</td>\n",
              "      <td>NaN</td>\n",
              "      <td>0</td>\n",
              "    </tr>\n",
              "  </tbody>\n",
              "</table>\n",
              "</div>"
            ],
            "text/plain": [
              "      CO_UNIDADE  CO_LEITO  QT_EXIST  QT_CONTR  QT_SUS\n",
              "0  5208006587518        32         1       NaN       0\n",
              "1  5208006587518        42         1       NaN       0\n",
              "2  5208006587518        45         1       NaN       0\n",
              "3  5208006587518        48         1       NaN       0\n",
              "4  3552202708566        81         9       NaN       0"
            ]
          },
          "metadata": {
            "tags": []
          },
          "execution_count": 186
        }
      ]
    },
    {
      "cell_type": "code",
      "metadata": {
        "id": "AuY_HLImq057",
        "colab_type": "code",
        "colab": {
          "base_uri": "https://localhost:8080/",
          "height": 221
        },
        "outputId": "18ec405d-82c7-4daa-e0e8-b92a2224da2c"
      },
      "source": [
        "leitos.info()"
      ],
      "execution_count": 187,
      "outputs": [
        {
          "output_type": "stream",
          "text": [
            "<class 'pandas.core.frame.DataFrame'>\n",
            "RangeIndex: 54458 entries, 0 to 54457\n",
            "Data columns (total 5 columns):\n",
            " #   Column      Non-Null Count  Dtype  \n",
            "---  ------      --------------  -----  \n",
            " 0   CO_UNIDADE  54458 non-null  object \n",
            " 1   CO_LEITO    54458 non-null  int64  \n",
            " 2   QT_EXIST    54458 non-null  int64  \n",
            " 3   QT_CONTR    93 non-null     float64\n",
            " 4   QT_SUS      54458 non-null  int64  \n",
            "dtypes: float64(1), int64(3), object(1)\n",
            "memory usage: 2.1+ MB\n"
          ],
          "name": "stdout"
        }
      ]
    },
    {
      "cell_type": "code",
      "metadata": {
        "id": "VscmjxEpsxZi",
        "colab_type": "code",
        "colab": {
          "base_uri": "https://localhost:8080/",
          "height": 1000
        },
        "outputId": "36bc809f-00c5-43e2-bb7b-f7cc3ef14086"
      },
      "source": [
        "#Abrindo arquivo que descreve o tipo de leito e o tpleito\n",
        "desc_leito = pd.read_csv('/content/drive/My Drive/SUS_DADOS/tpleitos.csv', sep=',', encoding='Latin-1')\n",
        "desc_leito"
      ],
      "execution_count": 188,
      "outputs": [
        {
          "output_type": "execute_result",
          "data": {
            "text/html": [
              "<div>\n",
              "<style scoped>\n",
              "    .dataframe tbody tr th:only-of-type {\n",
              "        vertical-align: middle;\n",
              "    }\n",
              "\n",
              "    .dataframe tbody tr th {\n",
              "        vertical-align: top;\n",
              "    }\n",
              "\n",
              "    .dataframe thead th {\n",
              "        text-align: right;\n",
              "    }\n",
              "</style>\n",
              "<table border=\"1\" class=\"dataframe\">\n",
              "  <thead>\n",
              "    <tr style=\"text-align: right;\">\n",
              "      <th></th>\n",
              "      <th>cod_leito</th>\n",
              "      <th>descricao_leito</th>\n",
              "      <th>tpleito</th>\n",
              "    </tr>\n",
              "  </thead>\n",
              "  <tbody>\n",
              "    <tr>\n",
              "      <th>0</th>\n",
              "      <td>1</td>\n",
              "      <td>BUCO MAXILO FACIAL</td>\n",
              "      <td>INTERNACAO</td>\n",
              "    </tr>\n",
              "    <tr>\n",
              "      <th>1</th>\n",
              "      <td>2</td>\n",
              "      <td>CARDIOLOGIA</td>\n",
              "      <td>INTERNACAO</td>\n",
              "    </tr>\n",
              "    <tr>\n",
              "      <th>2</th>\n",
              "      <td>3</td>\n",
              "      <td>CIRURGIA GERAL</td>\n",
              "      <td>INTERNACAO</td>\n",
              "    </tr>\n",
              "    <tr>\n",
              "      <th>3</th>\n",
              "      <td>4</td>\n",
              "      <td>ENDOCRINOLOGIA</td>\n",
              "      <td>INTERNACAO</td>\n",
              "    </tr>\n",
              "    <tr>\n",
              "      <th>4</th>\n",
              "      <td>5</td>\n",
              "      <td>GASTROENTEROLOGIA</td>\n",
              "      <td>INTERNACAO</td>\n",
              "    </tr>\n",
              "    <tr>\n",
              "      <th>5</th>\n",
              "      <td>6</td>\n",
              "      <td>GINECOLOGIA</td>\n",
              "      <td>INTERNACAO</td>\n",
              "    </tr>\n",
              "    <tr>\n",
              "      <th>6</th>\n",
              "      <td>7</td>\n",
              "      <td>CIRURGICO/DIAGNOSTICO/TERAPEUTICO</td>\n",
              "      <td>REGULACAO</td>\n",
              "    </tr>\n",
              "    <tr>\n",
              "      <th>7</th>\n",
              "      <td>8</td>\n",
              "      <td>NEFROLOGIAUROLOGIA</td>\n",
              "      <td>INTERNACAO</td>\n",
              "    </tr>\n",
              "    <tr>\n",
              "      <th>8</th>\n",
              "      <td>9</td>\n",
              "      <td>NEUROCIRURGIA</td>\n",
              "      <td>INTERNACAO</td>\n",
              "    </tr>\n",
              "    <tr>\n",
              "      <th>9</th>\n",
              "      <td>10</td>\n",
              "      <td>OBSTETRICIA CIRURGICA</td>\n",
              "      <td>URGENCIA</td>\n",
              "    </tr>\n",
              "    <tr>\n",
              "      <th>10</th>\n",
              "      <td>11</td>\n",
              "      <td>OFTALMOLOGIA</td>\n",
              "      <td>INTERNACAO</td>\n",
              "    </tr>\n",
              "    <tr>\n",
              "      <th>11</th>\n",
              "      <td>12</td>\n",
              "      <td>ONCOLOGIA</td>\n",
              "      <td>INTERNACAO</td>\n",
              "    </tr>\n",
              "    <tr>\n",
              "      <th>12</th>\n",
              "      <td>13</td>\n",
              "      <td>ORTOPEDIATRAUMATOLOGIA</td>\n",
              "      <td>INTERNACAO</td>\n",
              "    </tr>\n",
              "    <tr>\n",
              "      <th>13</th>\n",
              "      <td>14</td>\n",
              "      <td>OTORRINOLARINGOLOGIA</td>\n",
              "      <td>INTERNACAO</td>\n",
              "    </tr>\n",
              "    <tr>\n",
              "      <th>14</th>\n",
              "      <td>15</td>\n",
              "      <td>PLASTICA</td>\n",
              "      <td>INTERNACAO</td>\n",
              "    </tr>\n",
              "    <tr>\n",
              "      <th>15</th>\n",
              "      <td>16</td>\n",
              "      <td>TORACICA</td>\n",
              "      <td>INTERNACAO</td>\n",
              "    </tr>\n",
              "    <tr>\n",
              "      <th>16</th>\n",
              "      <td>31</td>\n",
              "      <td>AIDS</td>\n",
              "      <td>AMBULATORIAL</td>\n",
              "    </tr>\n",
              "    <tr>\n",
              "      <th>17</th>\n",
              "      <td>32</td>\n",
              "      <td>CARDIOLOGIA</td>\n",
              "      <td>AMBULATORIAL</td>\n",
              "    </tr>\n",
              "    <tr>\n",
              "      <th>18</th>\n",
              "      <td>33</td>\n",
              "      <td>CLINICA GERAL</td>\n",
              "      <td>AMBULATORIAL</td>\n",
              "    </tr>\n",
              "    <tr>\n",
              "      <th>19</th>\n",
              "      <td>34</td>\n",
              "      <td>CRONICOS</td>\n",
              "      <td>VIGILANCIA EM SAUDE</td>\n",
              "    </tr>\n",
              "    <tr>\n",
              "      <th>20</th>\n",
              "      <td>35</td>\n",
              "      <td>DERMATOLOGIA</td>\n",
              "      <td>AMBULATORIAL</td>\n",
              "    </tr>\n",
              "    <tr>\n",
              "      <th>21</th>\n",
              "      <td>36</td>\n",
              "      <td>GERIATRIA</td>\n",
              "      <td>AMBULATORIAL</td>\n",
              "    </tr>\n",
              "    <tr>\n",
              "      <th>22</th>\n",
              "      <td>37</td>\n",
              "      <td>HANSENOLOGIA</td>\n",
              "      <td>AMBULATORIAL</td>\n",
              "    </tr>\n",
              "    <tr>\n",
              "      <th>23</th>\n",
              "      <td>38</td>\n",
              "      <td>HEMATOLOGIA</td>\n",
              "      <td>AMBULATORIAL</td>\n",
              "    </tr>\n",
              "    <tr>\n",
              "      <th>24</th>\n",
              "      <td>40</td>\n",
              "      <td>NEFROUROLOGIA</td>\n",
              "      <td>AMBULATORIAL</td>\n",
              "    </tr>\n",
              "    <tr>\n",
              "      <th>25</th>\n",
              "      <td>41</td>\n",
              "      <td>NEONATOLOGIA</td>\n",
              "      <td>AMBULATORIAL</td>\n",
              "    </tr>\n",
              "    <tr>\n",
              "      <th>26</th>\n",
              "      <td>42</td>\n",
              "      <td>NEUROLOGIA</td>\n",
              "      <td>AMBULATORIAL</td>\n",
              "    </tr>\n",
              "    <tr>\n",
              "      <th>27</th>\n",
              "      <td>43</td>\n",
              "      <td>OBSTETRICIA CLINICA</td>\n",
              "      <td>URGENCIA</td>\n",
              "    </tr>\n",
              "    <tr>\n",
              "      <th>28</th>\n",
              "      <td>44</td>\n",
              "      <td>ONCOLOGIA</td>\n",
              "      <td>AMBULATORIAL</td>\n",
              "    </tr>\n",
              "    <tr>\n",
              "      <th>29</th>\n",
              "      <td>45</td>\n",
              "      <td>PEDIATRIA CLINICA</td>\n",
              "      <td>OUTROS</td>\n",
              "    </tr>\n",
              "    <tr>\n",
              "      <th>30</th>\n",
              "      <td>66</td>\n",
              "      <td>UNIDADE ISOLAMENTO</td>\n",
              "      <td>SADT</td>\n",
              "    </tr>\n",
              "    <tr>\n",
              "      <th>31</th>\n",
              "      <td>67</td>\n",
              "      <td>TRANSPLANTE</td>\n",
              "      <td>INTERNACAO</td>\n",
              "    </tr>\n",
              "    <tr>\n",
              "      <th>32</th>\n",
              "      <td>68</td>\n",
              "      <td>PEDIATRIA CIRURGICA</td>\n",
              "      <td>OUTROS</td>\n",
              "    </tr>\n",
              "    <tr>\n",
              "      <th>33</th>\n",
              "      <td>69</td>\n",
              "      <td>AIDS</td>\n",
              "      <td>REGULACAO</td>\n",
              "    </tr>\n",
              "    <tr>\n",
              "      <th>34</th>\n",
              "      <td>70</td>\n",
              "      <td>FIBROSE CISTICA</td>\n",
              "      <td>REGULACAO</td>\n",
              "    </tr>\n",
              "    <tr>\n",
              "      <th>35</th>\n",
              "      <td>71</td>\n",
              "      <td>INTERCORRENCIA POS-TRANSPLANTE</td>\n",
              "      <td>REGULACAO</td>\n",
              "    </tr>\n",
              "    <tr>\n",
              "      <th>36</th>\n",
              "      <td>72</td>\n",
              "      <td>GERIATRIA</td>\n",
              "      <td>REGULACAO</td>\n",
              "    </tr>\n",
              "    <tr>\n",
              "      <th>37</th>\n",
              "      <td>73</td>\n",
              "      <td>SAUDE MENTAL</td>\n",
              "      <td>REGULACAO</td>\n",
              "    </tr>\n",
              "    <tr>\n",
              "      <th>38</th>\n",
              "      <td>74</td>\n",
              "      <td>UTI ADULTO - TIPO I</td>\n",
              "      <td>SADT</td>\n",
              "    </tr>\n",
              "    <tr>\n",
              "      <th>39</th>\n",
              "      <td>75</td>\n",
              "      <td>UTI ADULTO - TIPO II</td>\n",
              "      <td>SADT</td>\n",
              "    </tr>\n",
              "    <tr>\n",
              "      <th>40</th>\n",
              "      <td>76</td>\n",
              "      <td>UTI ADULTO - TIPO III</td>\n",
              "      <td>SADT</td>\n",
              "    </tr>\n",
              "    <tr>\n",
              "      <th>41</th>\n",
              "      <td>77</td>\n",
              "      <td>UTI PEDIATRICA - TIPO I</td>\n",
              "      <td>SADT</td>\n",
              "    </tr>\n",
              "    <tr>\n",
              "      <th>42</th>\n",
              "      <td>78</td>\n",
              "      <td>UTI PEDIATRICA - TIPO II</td>\n",
              "      <td>SADT</td>\n",
              "    </tr>\n",
              "    <tr>\n",
              "      <th>43</th>\n",
              "      <td>79</td>\n",
              "      <td>UTI PEDIATRICA - TIPO III</td>\n",
              "      <td>SADT</td>\n",
              "    </tr>\n",
              "    <tr>\n",
              "      <th>44</th>\n",
              "      <td>80</td>\n",
              "      <td>UTI NEONATAL - TIPO I</td>\n",
              "      <td>SADT</td>\n",
              "    </tr>\n",
              "    <tr>\n",
              "      <th>45</th>\n",
              "      <td>81</td>\n",
              "      <td>UTI NEONATAL - TIPO II</td>\n",
              "      <td>SADT</td>\n",
              "    </tr>\n",
              "    <tr>\n",
              "      <th>46</th>\n",
              "      <td>82</td>\n",
              "      <td>UTI NEONATAL - TIPO III</td>\n",
              "      <td>SADT</td>\n",
              "    </tr>\n",
              "    <tr>\n",
              "      <th>47</th>\n",
              "      <td>83</td>\n",
              "      <td>UTI DE QUEIMADOS</td>\n",
              "      <td>SADT</td>\n",
              "    </tr>\n",
              "    <tr>\n",
              "      <th>48</th>\n",
              "      <td>84</td>\n",
              "      <td>ACOLHIMENTO NOTURNO</td>\n",
              "      <td>VIGILANCIA EM SAUDE</td>\n",
              "    </tr>\n",
              "    <tr>\n",
              "      <th>49</th>\n",
              "      <td>85</td>\n",
              "      <td>UTI CORONARIANA TIPO II - UCO TIPO II</td>\n",
              "      <td>SADT</td>\n",
              "    </tr>\n",
              "    <tr>\n",
              "      <th>50</th>\n",
              "      <td>86</td>\n",
              "      <td>UTI CORONARIANA TIPO III - UCO TIPO III</td>\n",
              "      <td>SADT</td>\n",
              "    </tr>\n",
              "    <tr>\n",
              "      <th>51</th>\n",
              "      <td>87</td>\n",
              "      <td>SAUDE MENTAL</td>\n",
              "      <td>AMBULATORIAL</td>\n",
              "    </tr>\n",
              "    <tr>\n",
              "      <th>52</th>\n",
              "      <td>88</td>\n",
              "      <td>QUEIMADO ADULTO</td>\n",
              "      <td>AMBULATORIAL</td>\n",
              "    </tr>\n",
              "    <tr>\n",
              "      <th>53</th>\n",
              "      <td>89</td>\n",
              "      <td>QUEIMADO PEDIATRICO</td>\n",
              "      <td>AMBULATORIAL</td>\n",
              "    </tr>\n",
              "    <tr>\n",
              "      <th>54</th>\n",
              "      <td>90</td>\n",
              "      <td>QUEIMADO ADULTO</td>\n",
              "      <td>INTERNACAO</td>\n",
              "    </tr>\n",
              "    <tr>\n",
              "      <th>55</th>\n",
              "      <td>91</td>\n",
              "      <td>QUEIMADO PEDIATRICO</td>\n",
              "      <td>INTERNACAO</td>\n",
              "    </tr>\n",
              "    <tr>\n",
              "      <th>56</th>\n",
              "      <td>92</td>\n",
              "      <td>UNIDADE DE CUIDADOS INTERMEDIARIOS NEONATAL CO...</td>\n",
              "      <td>SADT</td>\n",
              "    </tr>\n",
              "    <tr>\n",
              "      <th>57</th>\n",
              "      <td>93</td>\n",
              "      <td>UNIDADE DE CUIDADOS INTERMEDIARIOS NEONATAL CA...</td>\n",
              "      <td>SADT</td>\n",
              "    </tr>\n",
              "    <tr>\n",
              "      <th>58</th>\n",
              "      <td>94</td>\n",
              "      <td>UNIDADE DE CUIDADOS INTERMEDIARIOS PEDIATRICO</td>\n",
              "      <td>SADT</td>\n",
              "    </tr>\n",
              "    <tr>\n",
              "      <th>59</th>\n",
              "      <td>95</td>\n",
              "      <td>UNIDADE DE CUIDADOS INTERMEDIARIOS ADULTO</td>\n",
              "      <td>SADT</td>\n",
              "    </tr>\n",
              "  </tbody>\n",
              "</table>\n",
              "</div>"
            ],
            "text/plain": [
              "    cod_leito  ...              tpleito\n",
              "0           1  ...           INTERNACAO\n",
              "1           2  ...           INTERNACAO\n",
              "2           3  ...           INTERNACAO\n",
              "3           4  ...           INTERNACAO\n",
              "4           5  ...           INTERNACAO\n",
              "5           6  ...           INTERNACAO\n",
              "6           7  ...            REGULACAO\n",
              "7           8  ...           INTERNACAO\n",
              "8           9  ...           INTERNACAO\n",
              "9          10  ...             URGENCIA\n",
              "10         11  ...           INTERNACAO\n",
              "11         12  ...           INTERNACAO\n",
              "12         13  ...           INTERNACAO\n",
              "13         14  ...           INTERNACAO\n",
              "14         15  ...           INTERNACAO\n",
              "15         16  ...           INTERNACAO\n",
              "16         31  ...         AMBULATORIAL\n",
              "17         32  ...         AMBULATORIAL\n",
              "18         33  ...         AMBULATORIAL\n",
              "19         34  ...  VIGILANCIA EM SAUDE\n",
              "20         35  ...         AMBULATORIAL\n",
              "21         36  ...         AMBULATORIAL\n",
              "22         37  ...         AMBULATORIAL\n",
              "23         38  ...         AMBULATORIAL\n",
              "24         40  ...         AMBULATORIAL\n",
              "25         41  ...         AMBULATORIAL\n",
              "26         42  ...         AMBULATORIAL\n",
              "27         43  ...             URGENCIA\n",
              "28         44  ...         AMBULATORIAL\n",
              "29         45  ...               OUTROS\n",
              "30         66  ...                 SADT\n",
              "31         67  ...           INTERNACAO\n",
              "32         68  ...               OUTROS\n",
              "33         69  ...            REGULACAO\n",
              "34         70  ...            REGULACAO\n",
              "35         71  ...            REGULACAO\n",
              "36         72  ...            REGULACAO\n",
              "37         73  ...            REGULACAO\n",
              "38         74  ...                 SADT\n",
              "39         75  ...                 SADT\n",
              "40         76  ...                 SADT\n",
              "41         77  ...                 SADT\n",
              "42         78  ...                 SADT\n",
              "43         79  ...                 SADT\n",
              "44         80  ...                 SADT\n",
              "45         81  ...                 SADT\n",
              "46         82  ...                 SADT\n",
              "47         83  ...                 SADT\n",
              "48         84  ...  VIGILANCIA EM SAUDE\n",
              "49         85  ...                 SADT\n",
              "50         86  ...                 SADT\n",
              "51         87  ...         AMBULATORIAL\n",
              "52         88  ...         AMBULATORIAL\n",
              "53         89  ...         AMBULATORIAL\n",
              "54         90  ...           INTERNACAO\n",
              "55         91  ...           INTERNACAO\n",
              "56         92  ...                 SADT\n",
              "57         93  ...                 SADT\n",
              "58         94  ...                 SADT\n",
              "59         95  ...                 SADT\n",
              "\n",
              "[60 rows x 3 columns]"
            ]
          },
          "metadata": {
            "tags": []
          },
          "execution_count": 188
        }
      ]
    },
    {
      "cell_type": "code",
      "metadata": {
        "id": "PIz-rOCksxrs",
        "colab_type": "code",
        "colab": {}
      },
      "source": [
        "desc_leito.rename(columns={'cod_leito': 'CO_LEITO'}, inplace=True)"
      ],
      "execution_count": 193,
      "outputs": []
    },
    {
      "cell_type": "code",
      "metadata": {
        "id": "6zRyQLIEsx_I",
        "colab_type": "code",
        "colab": {
          "base_uri": "https://localhost:8080/",
          "height": 34
        },
        "outputId": "6b5c4f23-18b5-4737-fadf-2b95194aeedf"
      },
      "source": [
        "desc_leito.columns"
      ],
      "execution_count": 194,
      "outputs": [
        {
          "output_type": "execute_result",
          "data": {
            "text/plain": [
              "Index(['CO_LEITO', 'descricao_leito', 'tpleito'], dtype='object')"
            ]
          },
          "metadata": {
            "tags": []
          },
          "execution_count": 194
        }
      ]
    },
    {
      "cell_type": "code",
      "metadata": {
        "id": "bEsRP5GfsyQO",
        "colab_type": "code",
        "colab": {}
      },
      "source": [
        "df_leitos = leitos.merge(desc_leito, on='CO_LEITO', how='left')"
      ],
      "execution_count": 195,
      "outputs": []
    },
    {
      "cell_type": "code",
      "metadata": {
        "id": "tA018cDu1cuR",
        "colab_type": "code",
        "colab": {
          "base_uri": "https://localhost:8080/",
          "height": 204
        },
        "outputId": "7ebcf41e-b296-4208-8e64-0933e5e5e75e"
      },
      "source": [
        "df_leitos.head()"
      ],
      "execution_count": 196,
      "outputs": [
        {
          "output_type": "execute_result",
          "data": {
            "text/html": [
              "<div>\n",
              "<style scoped>\n",
              "    .dataframe tbody tr th:only-of-type {\n",
              "        vertical-align: middle;\n",
              "    }\n",
              "\n",
              "    .dataframe tbody tr th {\n",
              "        vertical-align: top;\n",
              "    }\n",
              "\n",
              "    .dataframe thead th {\n",
              "        text-align: right;\n",
              "    }\n",
              "</style>\n",
              "<table border=\"1\" class=\"dataframe\">\n",
              "  <thead>\n",
              "    <tr style=\"text-align: right;\">\n",
              "      <th></th>\n",
              "      <th>CO_UNIDADE</th>\n",
              "      <th>CO_LEITO</th>\n",
              "      <th>QT_EXIST</th>\n",
              "      <th>QT_CONTR</th>\n",
              "      <th>QT_SUS</th>\n",
              "      <th>descricao_leito</th>\n",
              "      <th>tpleito</th>\n",
              "    </tr>\n",
              "  </thead>\n",
              "  <tbody>\n",
              "    <tr>\n",
              "      <th>0</th>\n",
              "      <td>5208006587518</td>\n",
              "      <td>32</td>\n",
              "      <td>1</td>\n",
              "      <td>NaN</td>\n",
              "      <td>0</td>\n",
              "      <td>CARDIOLOGIA</td>\n",
              "      <td>AMBULATORIAL</td>\n",
              "    </tr>\n",
              "    <tr>\n",
              "      <th>1</th>\n",
              "      <td>5208006587518</td>\n",
              "      <td>42</td>\n",
              "      <td>1</td>\n",
              "      <td>NaN</td>\n",
              "      <td>0</td>\n",
              "      <td>NEUROLOGIA</td>\n",
              "      <td>AMBULATORIAL</td>\n",
              "    </tr>\n",
              "    <tr>\n",
              "      <th>2</th>\n",
              "      <td>5208006587518</td>\n",
              "      <td>45</td>\n",
              "      <td>1</td>\n",
              "      <td>NaN</td>\n",
              "      <td>0</td>\n",
              "      <td>PEDIATRIA CLINICA</td>\n",
              "      <td>OUTROS</td>\n",
              "    </tr>\n",
              "    <tr>\n",
              "      <th>3</th>\n",
              "      <td>5208006587518</td>\n",
              "      <td>48</td>\n",
              "      <td>1</td>\n",
              "      <td>NaN</td>\n",
              "      <td>0</td>\n",
              "      <td>NaN</td>\n",
              "      <td>NaN</td>\n",
              "    </tr>\n",
              "    <tr>\n",
              "      <th>4</th>\n",
              "      <td>3552202708566</td>\n",
              "      <td>81</td>\n",
              "      <td>9</td>\n",
              "      <td>NaN</td>\n",
              "      <td>0</td>\n",
              "      <td>UTI NEONATAL - TIPO II</td>\n",
              "      <td>SADT</td>\n",
              "    </tr>\n",
              "  </tbody>\n",
              "</table>\n",
              "</div>"
            ],
            "text/plain": [
              "      CO_UNIDADE  CO_LEITO  ...         descricao_leito       tpleito\n",
              "0  5208006587518        32  ...             CARDIOLOGIA  AMBULATORIAL\n",
              "1  5208006587518        42  ...              NEUROLOGIA  AMBULATORIAL\n",
              "2  5208006587518        45  ...       PEDIATRIA CLINICA        OUTROS\n",
              "3  5208006587518        48  ...                     NaN           NaN\n",
              "4  3552202708566        81  ...  UTI NEONATAL - TIPO II          SADT\n",
              "\n",
              "[5 rows x 7 columns]"
            ]
          },
          "metadata": {
            "tags": []
          },
          "execution_count": 196
        }
      ]
    },
    {
      "cell_type": "code",
      "metadata": {
        "id": "41yDsXQ_3wrj",
        "colab_type": "code",
        "colab": {
          "base_uri": "https://localhost:8080/",
          "height": 153
        },
        "outputId": "2cf2f699-07fb-42d7-c42d-ade4cf2e91d5"
      },
      "source": [
        "df_leitos.isnull().sum()"
      ],
      "execution_count": 197,
      "outputs": [
        {
          "output_type": "execute_result",
          "data": {
            "text/plain": [
              "CO_UNIDADE             0\n",
              "CO_LEITO               0\n",
              "QT_EXIST               0\n",
              "QT_CONTR           54365\n",
              "QT_SUS                 0\n",
              "descricao_leito     2373\n",
              "tpleito             2373\n",
              "dtype: int64"
            ]
          },
          "metadata": {
            "tags": []
          },
          "execution_count": 197
        }
      ]
    },
    {
      "cell_type": "code",
      "metadata": {
        "id": "sD8R2HWXbavn",
        "colab_type": "code",
        "colab": {}
      },
      "source": [
        "df_leitos.drop(columns=['QT_CONTR'],inplace=True)"
      ],
      "execution_count": 200,
      "outputs": []
    },
    {
      "cell_type": "code",
      "metadata": {
        "id": "i26unBa-8AvM",
        "colab_type": "code",
        "colab": {
          "base_uri": "https://localhost:8080/",
          "height": 34
        },
        "outputId": "c1c55db5-faa3-4d42-c6b1-e86a4edaefae"
      },
      "source": [
        "df_leitos['QT_SUS'].sum()"
      ],
      "execution_count": null,
      "outputs": [
        {
          "output_type": "execute_result",
          "data": {
            "text/plain": [
              "357192"
            ]
          },
          "metadata": {
            "tags": []
          },
          "execution_count": 112
        }
      ]
    },
    {
      "cell_type": "code",
      "metadata": {
        "id": "AUgazA09cDe2",
        "colab_type": "code",
        "colab": {
          "base_uri": "https://localhost:8080/",
          "height": 34
        },
        "outputId": "0c3a4e67-0d83-466c-f21d-4dd7cdc2d1a6"
      },
      "source": [
        "df_leitos['QT_EXIST'].sum()"
      ],
      "execution_count": 201,
      "outputs": [
        {
          "output_type": "execute_result",
          "data": {
            "text/plain": [
              "547830"
            ]
          },
          "metadata": {
            "tags": []
          },
          "execution_count": 201
        }
      ]
    },
    {
      "cell_type": "code",
      "metadata": {
        "id": "z5cJMo2E8yO4",
        "colab_type": "code",
        "colab": {
          "base_uri": "https://localhost:8080/",
          "height": 170
        },
        "outputId": "e5c44e86-77df-4cac-b706-40b06aa3fe38"
      },
      "source": [
        "df_leitos.groupby('tpleito')['QT_SUS'].sum()"
      ],
      "execution_count": 202,
      "outputs": [
        {
          "output_type": "execute_result",
          "data": {
            "text/plain": [
              "tpleito\n",
              "AMBULATORIAL           112757\n",
              "INTERNACAO              78327\n",
              "OUTROS                  43293\n",
              "REGULACAO                5483\n",
              "SADT                    30248\n",
              "URGENCIA                42928\n",
              "VIGILANCIA EM SAUDE     11189\n",
              "Name: QT_SUS, dtype: int64"
            ]
          },
          "metadata": {
            "tags": []
          },
          "execution_count": 202
        }
      ]
    },
    {
      "cell_type": "code",
      "metadata": {
        "id": "rdbGDkeocUkk",
        "colab_type": "code",
        "colab": {
          "base_uri": "https://localhost:8080/",
          "height": 170
        },
        "outputId": "41bba2ac-f716-4a9f-82b2-f4eaa6978940"
      },
      "source": [
        "df_leitos.groupby('tpleito')['QT_EXIST'].sum()"
      ],
      "execution_count": 203,
      "outputs": [
        {
          "output_type": "execute_result",
          "data": {
            "text/plain": [
              "tpleito\n",
              "AMBULATORIAL           166630\n",
              "INTERNACAO             126717\n",
              "OUTROS                  56530\n",
              "REGULACAO               11805\n",
              "SADT                    60683\n",
              "URGENCIA                59308\n",
              "VIGILANCIA EM SAUDE     13849\n",
              "Name: QT_EXIST, dtype: int64"
            ]
          },
          "metadata": {
            "tags": []
          },
          "execution_count": 203
        }
      ]
    },
    {
      "cell_type": "code",
      "metadata": {
        "id": "4O5bj-pu9QDm",
        "colab_type": "code",
        "colab": {
          "base_uri": "https://localhost:8080/",
          "height": 282
        },
        "outputId": "ac49452a-081b-475c-e660-a9b06010a068"
      },
      "source": [
        "df_leitos.groupby('tpleito')['QT_EXIST'].size().sort_values().tail().plot(kind='barh')"
      ],
      "execution_count": 205,
      "outputs": [
        {
          "output_type": "execute_result",
          "data": {
            "text/plain": [
              "<matplotlib.axes._subplots.AxesSubplot at 0x7feeb592ccc0>"
            ]
          },
          "metadata": {
            "tags": []
          },
          "execution_count": 205
        },
        {
          "output_type": "display_data",
          "data": {
            "image/png": "[encoded data removed]",
            "text/plain": [
              "<Figure size 432x288 with 1 Axes>"
            ]
          },
          "metadata": {
            "tags": [],
            "needs_background": "light"
          }
        }
      ]
    },
    {
      "cell_type": "code",
      "metadata": {
        "id": "fnVhSjnV9zwt",
        "colab_type": "code",
        "colab": {
          "base_uri": "https://localhost:8080/",
          "height": 282
        },
        "outputId": "687dfaa0-a044-4490-ea6c-a877375dd0a4"
      },
      "source": [
        "df_leitos.groupby('descricao_leito')['QT_EXIST'].size().sort_values().head().plot(kind='barh')"
      ],
      "execution_count": 206,
      "outputs": [
        {
          "output_type": "execute_result",
          "data": {
            "text/plain": [
              "<matplotlib.axes._subplots.AxesSubplot at 0x7feeb59a6c50>"
            ]
          },
          "metadata": {
            "tags": []
          },
          "execution_count": 206
        },
        {
          "output_type": "display_data",
          "data": {
            "image/png": "[encoded data removed]",
            "text/plain": [
              "<Figure size 432x288 with 1 Axes>"
            ]
          },
          "metadata": {
            "tags": [],
            "needs_background": "light"
          }
        }
      ]
    },
    {
      "cell_type": "code",
      "metadata": {
        "id": "84BTbAMt-mJb",
        "colab_type": "code",
        "colab": {
          "base_uri": "https://localhost:8080/",
          "height": 282
        },
        "outputId": "89d8848e-686b-4cb4-e34e-d0695acec5e1"
      },
      "source": [
        "df_leitos.groupby('descricao_leito')['QT_EXIST'].size().sort_values().tail().plot(kind='barh')"
      ],
      "execution_count": 207,
      "outputs": [
        {
          "output_type": "execute_result",
          "data": {
            "text/plain": [
              "<matplotlib.axes._subplots.AxesSubplot at 0x7feeb5872b00>"
            ]
          },
          "metadata": {
            "tags": []
          },
          "execution_count": 207
        },
        {
          "output_type": "display_data",
          "data": {
            "image/png": "[encoded data removed]",
            "text/plain": [
              "<Figure size 432x288 with 1 Axes>"
            ]
          },
          "metadata": {
            "tags": [],
            "needs_background": "light"
          }
        }
      ]
    },
    {
      "cell_type": "code",
      "metadata": {
        "id": "S5iV3EWydFzR",
        "colab_type": "code",
        "colab": {
          "base_uri": "https://localhost:8080/",
          "height": 85
        },
        "outputId": "0961dd50-0dd5-4319-8a3f-d0e9edfca709"
      },
      "source": [
        "df_cnes.columns"
      ],
      "execution_count": 209,
      "outputs": [
        {
          "output_type": "execute_result",
          "data": {
            "text/plain": [
              "Index(['CO_UNIDADE', 'CO_CNES', 'CO_REGIAO_SAUDE', 'CO_ATIVIDADE',\n",
              "       'cod_unidades', 'CO_TURNO_ATENDIMENTO', 'CO_MUNICIPIO_GESTOR',\n",
              "       'TP_ESTAB_SEMPRE_ABERTO', 'TP_GESTAO', 'descricao'],\n",
              "      dtype='object')"
            ]
          },
          "metadata": {
            "tags": []
          },
          "execution_count": 209
        }
      ]
    },
    {
      "cell_type": "code",
      "metadata": {
        "id": "G0hEJPA2dGDp",
        "colab_type": "code",
        "colab": {
          "base_uri": "https://localhost:8080/",
          "height": 68
        },
        "outputId": "67b8aaf9-62ef-43be-a911-4226932c92fa"
      },
      "source": [
        "df_leitos.columns"
      ],
      "execution_count": 210,
      "outputs": [
        {
          "output_type": "execute_result",
          "data": {
            "text/plain": [
              "Index(['CO_UNIDADE', 'CO_LEITO', 'QT_EXIST', 'QT_SUS', 'descricao_leito',\n",
              "       'tpleito'],\n",
              "      dtype='object')"
            ]
          },
          "metadata": {
            "tags": []
          },
          "execution_count": 210
        }
      ]
    },
    {
      "cell_type": "code",
      "metadata": {
        "id": "pegoknDNdGUt",
        "colab_type": "code",
        "colab": {}
      },
      "source": [
        "df_final = pd.merge(df_cnes, df_leitos, on='CO_UNIDADE')"
      ],
      "execution_count": 211,
      "outputs": []
    },
    {
      "cell_type": "code",
      "metadata": {
        "id": "DJ6aoii4dG0L",
        "colab_type": "code",
        "colab": {
          "base_uri": "https://localhost:8080/",
          "height": 394
        },
        "outputId": "7e382d93-cba0-4a91-c457-32032e3e83b5"
      },
      "source": [
        "df_final.head()"
      ],
      "execution_count": 212,
      "outputs": [
        {
          "output_type": "execute_result",
          "data": {
            "text/html": [
              "<div>\n",
              "<style scoped>\n",
              "    .dataframe tbody tr th:only-of-type {\n",
              "        vertical-align: middle;\n",
              "    }\n",
              "\n",
              "    .dataframe tbody tr th {\n",
              "        vertical-align: top;\n",
              "    }\n",
              "\n",
              "    .dataframe thead th {\n",
              "        text-align: right;\n",
              "    }\n",
              "</style>\n",
              "<table border=\"1\" class=\"dataframe\">\n",
              "  <thead>\n",
              "    <tr style=\"text-align: right;\">\n",
              "      <th></th>\n",
              "      <th>CO_UNIDADE</th>\n",
              "      <th>CO_CNES</th>\n",
              "      <th>CO_REGIAO_SAUDE</th>\n",
              "      <th>CO_ATIVIDADE</th>\n",
              "      <th>cod_unidades</th>\n",
              "      <th>CO_TURNO_ATENDIMENTO</th>\n",
              "      <th>CO_MUNICIPIO_GESTOR</th>\n",
              "      <th>TP_ESTAB_SEMPRE_ABERTO</th>\n",
              "      <th>TP_GESTAO</th>\n",
              "      <th>descricao</th>\n",
              "      <th>CO_LEITO</th>\n",
              "      <th>QT_EXIST</th>\n",
              "      <th>QT_SUS</th>\n",
              "      <th>descricao_leito</th>\n",
              "      <th>tpleito</th>\n",
              "    </tr>\n",
              "  </thead>\n",
              "  <tbody>\n",
              "    <tr>\n",
              "      <th>0</th>\n",
              "      <td>3303307383851</td>\n",
              "      <td>7383851</td>\n",
              "      <td>NaN</td>\n",
              "      <td>4</td>\n",
              "      <td>36</td>\n",
              "      <td>3.0</td>\n",
              "      <td>330330</td>\n",
              "      <td>S</td>\n",
              "      <td>M</td>\n",
              "      <td>CLINICA/CENTRO DE ESPECIALIDADE</td>\n",
              "      <td>33</td>\n",
              "      <td>1</td>\n",
              "      <td>0</td>\n",
              "      <td>CLINICA GERAL</td>\n",
              "      <td>AMBULATORIAL</td>\n",
              "    </tr>\n",
              "    <tr>\n",
              "      <th>1</th>\n",
              "      <td>3303307384920</td>\n",
              "      <td>7384920</td>\n",
              "      <td>NaN</td>\n",
              "      <td>4</td>\n",
              "      <td>36</td>\n",
              "      <td>4.0</td>\n",
              "      <td>330330</td>\n",
              "      <td>S</td>\n",
              "      <td>M</td>\n",
              "      <td>CLINICA/CENTRO DE ESPECIALIDADE</td>\n",
              "      <td>33</td>\n",
              "      <td>1</td>\n",
              "      <td>0</td>\n",
              "      <td>CLINICA GERAL</td>\n",
              "      <td>AMBULATORIAL</td>\n",
              "    </tr>\n",
              "    <tr>\n",
              "      <th>2</th>\n",
              "      <td>3202207394780</td>\n",
              "      <td>7394780</td>\n",
              "      <td>NaN</td>\n",
              "      <td>4</td>\n",
              "      <td>36</td>\n",
              "      <td>6.0</td>\n",
              "      <td>320220</td>\n",
              "      <td>S</td>\n",
              "      <td>M</td>\n",
              "      <td>CLINICA/CENTRO DE ESPECIALIDADE</td>\n",
              "      <td>47</td>\n",
              "      <td>60</td>\n",
              "      <td>0</td>\n",
              "      <td>NaN</td>\n",
              "      <td>NaN</td>\n",
              "    </tr>\n",
              "    <tr>\n",
              "      <th>3</th>\n",
              "      <td>1500805994047</td>\n",
              "      <td>5994047</td>\n",
              "      <td>NaN</td>\n",
              "      <td>4</td>\n",
              "      <td>36</td>\n",
              "      <td>3.0</td>\n",
              "      <td>150080</td>\n",
              "      <td>NaN</td>\n",
              "      <td>M</td>\n",
              "      <td>CLINICA/CENTRO DE ESPECIALIDADE</td>\n",
              "      <td>1</td>\n",
              "      <td>1</td>\n",
              "      <td>0</td>\n",
              "      <td>BUCO MAXILO FACIAL</td>\n",
              "      <td>INTERNACAO</td>\n",
              "    </tr>\n",
              "    <tr>\n",
              "      <th>4</th>\n",
              "      <td>3304557473699</td>\n",
              "      <td>7473699</td>\n",
              "      <td>NaN</td>\n",
              "      <td>4</td>\n",
              "      <td>36</td>\n",
              "      <td>6.0</td>\n",
              "      <td>330455</td>\n",
              "      <td>NaN</td>\n",
              "      <td>M</td>\n",
              "      <td>CLINICA/CENTRO DE ESPECIALIDADE</td>\n",
              "      <td>74</td>\n",
              "      <td>21</td>\n",
              "      <td>0</td>\n",
              "      <td>UTI ADULTO - TIPO I</td>\n",
              "      <td>SADT</td>\n",
              "    </tr>\n",
              "  </tbody>\n",
              "</table>\n",
              "</div>"
            ],
            "text/plain": [
              "      CO_UNIDADE  CO_CNES  ...      descricao_leito       tpleito\n",
              "0  3303307383851  7383851  ...        CLINICA GERAL  AMBULATORIAL\n",
              "1  3303307384920  7384920  ...        CLINICA GERAL  AMBULATORIAL\n",
              "2  3202207394780  7394780  ...                  NaN           NaN\n",
              "3  1500805994047  5994047  ...   BUCO MAXILO FACIAL    INTERNACAO\n",
              "4  3304557473699  7473699  ...  UTI ADULTO - TIPO I          SADT\n",
              "\n",
              "[5 rows x 15 columns]"
            ]
          },
          "metadata": {
            "tags": []
          },
          "execution_count": 212
        }
      ]
    },
    {
      "cell_type": "code",
      "metadata": {
        "id": "JjoBCPine5G8",
        "colab_type": "code",
        "colab": {
          "base_uri": "https://localhost:8080/",
          "height": 102
        },
        "outputId": "036ff2b3-00eb-4969-fed3-995ea38087aa"
      },
      "source": [
        "df_final.columns"
      ],
      "execution_count": 213,
      "outputs": [
        {
          "output_type": "execute_result",
          "data": {
            "text/plain": [
              "Index(['CO_UNIDADE', 'CO_CNES', 'CO_REGIAO_SAUDE', 'CO_ATIVIDADE',\n",
              "       'cod_unidades', 'CO_TURNO_ATENDIMENTO', 'CO_MUNICIPIO_GESTOR',\n",
              "       'TP_ESTAB_SEMPRE_ABERTO', 'TP_GESTAO', 'descricao', 'CO_LEITO',\n",
              "       'QT_EXIST', 'QT_SUS', 'descricao_leito', 'tpleito'],\n",
              "      dtype='object')"
            ]
          },
          "metadata": {
            "tags": []
          },
          "execution_count": 213
        }
      ]
    },
    {
      "cell_type": "code",
      "metadata": {
        "id": "KSnqYBFGe8IM",
        "colab_type": "code",
        "colab": {
          "base_uri": "https://localhost:8080/",
          "height": 213
        },
        "outputId": "c88b8021-a19a-45c0-b999-28dcf28e9dae"
      },
      "source": [
        "#verificando a quantidade de leitos em hospitais gerais\n",
        "hospitais = df_final[df_final['cod_unidades'] == 5]\n",
        "hospitais.head(3)\n"
      ],
      "execution_count": 216,
      "outputs": [
        {
          "output_type": "execute_result",
          "data": {
            "text/html": [
              "<div>\n",
              "<style scoped>\n",
              "    .dataframe tbody tr th:only-of-type {\n",
              "        vertical-align: middle;\n",
              "    }\n",
              "\n",
              "    .dataframe tbody tr th {\n",
              "        vertical-align: top;\n",
              "    }\n",
              "\n",
              "    .dataframe thead th {\n",
              "        text-align: right;\n",
              "    }\n",
              "</style>\n",
              "<table border=\"1\" class=\"dataframe\">\n",
              "  <thead>\n",
              "    <tr style=\"text-align: right;\">\n",
              "      <th></th>\n",
              "      <th>CO_UNIDADE</th>\n",
              "      <th>CO_CNES</th>\n",
              "      <th>CO_REGIAO_SAUDE</th>\n",
              "      <th>CO_ATIVIDADE</th>\n",
              "      <th>cod_unidades</th>\n",
              "      <th>CO_TURNO_ATENDIMENTO</th>\n",
              "      <th>CO_MUNICIPIO_GESTOR</th>\n",
              "      <th>TP_ESTAB_SEMPRE_ABERTO</th>\n",
              "      <th>TP_GESTAO</th>\n",
              "      <th>descricao</th>\n",
              "      <th>CO_LEITO</th>\n",
              "      <th>QT_EXIST</th>\n",
              "      <th>QT_SUS</th>\n",
              "      <th>descricao_leito</th>\n",
              "      <th>tpleito</th>\n",
              "    </tr>\n",
              "  </thead>\n",
              "  <tbody>\n",
              "    <tr>\n",
              "      <th>860</th>\n",
              "      <td>4312905230241</td>\n",
              "      <td>5230241</td>\n",
              "      <td>5CRS</td>\n",
              "      <td>4</td>\n",
              "      <td>5</td>\n",
              "      <td>4.0</td>\n",
              "      <td>431290</td>\n",
              "      <td>S</td>\n",
              "      <td>M</td>\n",
              "      <td>HOSPITAL GERAL</td>\n",
              "      <td>33</td>\n",
              "      <td>14</td>\n",
              "      <td>6</td>\n",
              "      <td>CLINICA GERAL</td>\n",
              "      <td>AMBULATORIAL</td>\n",
              "    </tr>\n",
              "    <tr>\n",
              "      <th>861</th>\n",
              "      <td>4312905230241</td>\n",
              "      <td>5230241</td>\n",
              "      <td>5CRS</td>\n",
              "      <td>4</td>\n",
              "      <td>5</td>\n",
              "      <td>4.0</td>\n",
              "      <td>431290</td>\n",
              "      <td>S</td>\n",
              "      <td>M</td>\n",
              "      <td>HOSPITAL GERAL</td>\n",
              "      <td>10</td>\n",
              "      <td>1</td>\n",
              "      <td>1</td>\n",
              "      <td>OBSTETRICIA CIRURGICA</td>\n",
              "      <td>URGENCIA</td>\n",
              "    </tr>\n",
              "    <tr>\n",
              "      <th>862</th>\n",
              "      <td>4312905230241</td>\n",
              "      <td>5230241</td>\n",
              "      <td>5CRS</td>\n",
              "      <td>4</td>\n",
              "      <td>5</td>\n",
              "      <td>4.0</td>\n",
              "      <td>431290</td>\n",
              "      <td>S</td>\n",
              "      <td>M</td>\n",
              "      <td>HOSPITAL GERAL</td>\n",
              "      <td>45</td>\n",
              "      <td>2</td>\n",
              "      <td>2</td>\n",
              "      <td>PEDIATRIA CLINICA</td>\n",
              "      <td>OUTROS</td>\n",
              "    </tr>\n",
              "  </tbody>\n",
              "</table>\n",
              "</div>"
            ],
            "text/plain": [
              "        CO_UNIDADE  CO_CNES  ...        descricao_leito       tpleito\n",
              "860  4312905230241  5230241  ...          CLINICA GERAL  AMBULATORIAL\n",
              "861  4312905230241  5230241  ...  OBSTETRICIA CIRURGICA      URGENCIA\n",
              "862  4312905230241  5230241  ...      PEDIATRIA CLINICA        OUTROS\n",
              "\n",
              "[3 rows x 15 columns]"
            ]
          },
          "metadata": {
            "tags": []
          },
          "execution_count": 216
        }
      ]
    },
    {
      "cell_type": "code",
      "metadata": {
        "id": "AzDw-kHngB11",
        "colab_type": "code",
        "colab": {
          "base_uri": "https://localhost:8080/",
          "height": 34
        },
        "outputId": "b8d0df12-d799-4ea8-fdd2-8426ac1e56a1"
      },
      "source": [
        "hospitais['QT_EXIST'].sum()"
      ],
      "execution_count": 219,
      "outputs": [
        {
          "output_type": "execute_result",
          "data": {
            "text/plain": [
              "423194"
            ]
          },
          "metadata": {
            "tags": []
          },
          "execution_count": 219
        }
      ]
    },
    {
      "cell_type": "code",
      "metadata": {
        "id": "Sv2pfVxOhWFl",
        "colab_type": "code",
        "colab": {
          "base_uri": "https://localhost:8080/",
          "height": 918
        },
        "outputId": "153251f3-3a16-4213-b37e-491190915fb6"
      },
      "source": [
        "hospitais['descricao_leito'].value_counts().sort_values(ascending=False)"
      ],
      "execution_count": 220,
      "outputs": [
        {
          "output_type": "execute_result",
          "data": {
            "text/plain": [
              "CLINICA GERAL                                        5450\n",
              "CIRURGIA GERAL                                       4739\n",
              "PEDIATRIA CLINICA                                    4480\n",
              "OBSTETRICIA CLINICA                                  3542\n",
              "OBSTETRICIA CIRURGICA                                3238\n",
              "UNIDADE ISOLAMENTO                                   1632\n",
              "GINECOLOGIA                                          1536\n",
              "ORTOPEDIATRAUMATOLOGIA                               1442\n",
              "CARDIOLOGIA                                          1363\n",
              "UTI ADULTO - TIPO II                                 1126\n",
              "PEDIATRIA CIRURGICA                                   959\n",
              "ONCOLOGIA                                             897\n",
              "NEFROLOGIAUROLOGIA                                    729\n",
              "PLASTICA                                              696\n",
              "NEFROUROLOGIA                                         659\n",
              "NEUROCIRURGIA                                         651\n",
              "OTORRINOLARINGOLOGIA                                  648\n",
              "NEUROLOGIA                                            645\n",
              "UTI ADULTO - TIPO I                                   602\n",
              "GASTROENTEROLOGIA                                     547\n",
              "CRONICOS                                              540\n",
              "BUCO MAXILO FACIAL                                    537\n",
              "CIRURGICO/DIAGNOSTICO/TERAPEUTICO                     532\n",
              "NEONATOLOGIA                                          497\n",
              "OFTALMOLOGIA                                          490\n",
              "UTI NEONATAL - TIPO II                                452\n",
              "AIDS                                                  422\n",
              "SAUDE MENTAL                                          419\n",
              "TORACICA                                              419\n",
              "UNIDADE DE CUIDADOS INTERMEDIARIOS NEONATAL CO...     414\n",
              "GERIATRIA                                             347\n",
              "HEMATOLOGIA                                           319\n",
              "UTI PEDIATRICA - TIPO II                              309\n",
              "UNIDADE DE CUIDADOS INTERMEDIARIOS ADULTO             276\n",
              "DERMATOLOGIA                                          235\n",
              "ENDOCRINOLOGIA                                        214\n",
              "UTI NEONATAL - TIPO I                                 197\n",
              "UTI ADULTO - TIPO III                                 187\n",
              "UNIDADE DE CUIDADOS INTERMEDIARIOS NEONATAL CA...     179\n",
              "TRANSPLANTE                                           174\n",
              "UTI PEDIATRICA - TIPO I                               161\n",
              "UTI NEONATAL - TIPO III                                85\n",
              "UTI PEDIATRICA - TIPO III                              79\n",
              "UTI CORONARIANA TIPO II - UCO TIPO II                  71\n",
              "HANSENOLOGIA                                           68\n",
              "UNIDADE DE CUIDADOS INTERMEDIARIOS PEDIATRICO          64\n",
              "QUEIMADO ADULTO                                        62\n",
              "QUEIMADO PEDIATRICO                                    48\n",
              "UTI DE QUEIMADOS                                       46\n",
              "INTERCORRENCIA POS-TRANSPLANTE                         36\n",
              "UTI CORONARIANA TIPO III - UCO TIPO III                16\n",
              "FIBROSE CISTICA                                         9\n",
              "Name: descricao_leito, dtype: int64"
            ]
          },
          "metadata": {
            "tags": []
          },
          "execution_count": 220
        }
      ]
    },
    {
      "cell_type": "code",
      "metadata": {
        "id": "4w2uRTHuib3l",
        "colab_type": "code",
        "colab": {
          "base_uri": "https://localhost:8080/",
          "height": 935
        },
        "outputId": "55032832-6824-4be3-9d43-15a4dc04ac84"
      },
      "source": [
        "hospitais.groupby('descricao_leito')['QT_EXIST'].sum().sort_values(ascending=False)"
      ],
      "execution_count": 223,
      "outputs": [
        {
          "output_type": "execute_result",
          "data": {
            "text/plain": [
              "descricao_leito\n",
              "CLINICA GERAL                                        118170\n",
              "CIRURGIA GERAL                                        61434\n",
              "PEDIATRIA CLINICA                                     39982\n",
              "OBSTETRICIA CIRURGICA                                 24886\n",
              "OBSTETRICIA CLINICA                                   23248\n",
              "UTI ADULTO - TIPO II                                  16876\n",
              "ORTOPEDIATRAUMATOLOGIA                                16400\n",
              "CARDIOLOGIA                                           10808\n",
              "UTI ADULTO - TIPO I                                    7219\n",
              "CRONICOS                                               7168\n",
              "ONCOLOGIA                                              7089\n",
              "GINECOLOGIA                                            6471\n",
              "NEUROCIRURGIA                                          4710\n",
              "UTI ADULTO - TIPO III                                  4541\n",
              "UTI NEONATAL - TIPO II                                 4504\n",
              "PEDIATRIA CIRURGICA                                    4374\n",
              "CIRURGICO/DIAGNOSTICO/TERAPEUTICO                      4128\n",
              "UNIDADE ISOLAMENTO                                     4015\n",
              "NEUROLOGIA                                             3932\n",
              "UNIDADE DE CUIDADOS INTERMEDIARIOS NEONATAL CO...      3437\n",
              "NEFROLOGIAUROLOGIA                                     3068\n",
              "NEFROUROLOGIA                                          2991\n",
              "NEONATOLOGIA                                           2841\n",
              "SAUDE MENTAL                                           2409\n",
              "PLASTICA                                               2197\n",
              "UNIDADE DE CUIDADOS INTERMEDIARIOS ADULTO              2190\n",
              "GERIATRIA                                              2177\n",
              "AIDS                                                   2096\n",
              "GASTROENTEROLOGIA                                      2015\n",
              "UTI PEDIATRICA - TIPO II                               2001\n",
              "OTORRINOLARINGOLOGIA                                   1810\n",
              "UTI NEONATAL - TIPO I                                  1409\n",
              "OFTALMOLOGIA                                           1263\n",
              "HEMATOLOGIA                                            1220\n",
              "TRANSPLANTE                                            1105\n",
              "UTI NEONATAL - TIPO III                                1092\n",
              "BUCO MAXILO FACIAL                                     1088\n",
              "TORACICA                                               1044\n",
              "UNIDADE DE CUIDADOS INTERMEDIARIOS NEONATAL CA...       855\n",
              "UTI PEDIATRICA - TIPO I                                 814\n",
              "UTI PEDIATRICA - TIPO III                               778\n",
              "UTI CORONARIANA TIPO II - UCO TIPO II                   610\n",
              "DERMATOLOGIA                                            493\n",
              "ENDOCRINOLOGIA                                          412\n",
              "QUEIMADO ADULTO                                         251\n",
              "UTI DE QUEIMADOS                                        224\n",
              "UNIDADE DE CUIDADOS INTERMEDIARIOS PEDIATRICO           217\n",
              "INTERCORRENCIA POS-TRANSPLANTE                          176\n",
              "HANSENOLOGIA                                            147\n",
              "UTI CORONARIANA TIPO III - UCO TIPO III                 145\n",
              "QUEIMADO PEDIATRICO                                     115\n",
              "FIBROSE CISTICA                                          20\n",
              "Name: QT_EXIST, dtype: int64"
            ]
          },
          "metadata": {
            "tags": []
          },
          "execution_count": 223
        }
      ]
    },
    {
      "cell_type": "code",
      "metadata": {
        "id": "sPaJRGhUjEKc",
        "colab_type": "code",
        "colab": {
          "base_uri": "https://localhost:8080/",
          "height": 935
        },
        "outputId": "21bfedee-d4b4-4e9f-bc2a-c535d46c7216"
      },
      "source": [
        "hospitais.groupby('descricao_leito')['QT_SUS'].sum().sort_values(ascending=False)"
      ],
      "execution_count": 224,
      "outputs": [
        {
          "output_type": "execute_result",
          "data": {
            "text/plain": [
              "descricao_leito\n",
              "CLINICA GERAL                                        81953\n",
              "CIRURGIA GERAL                                       37956\n",
              "PEDIATRIA CLINICA                                    31150\n",
              "OBSTETRICIA CLINICA                                  17699\n",
              "OBSTETRICIA CIRURGICA                                16621\n",
              "ORTOPEDIATRAUMATOLOGIA                               12507\n",
              "UTI ADULTO - TIPO II                                 10582\n",
              "CARDIOLOGIA                                           6039\n",
              "CRONICOS                                              5882\n",
              "ONCOLOGIA                                             4400\n",
              "GINECOLOGIA                                           3901\n",
              "NEUROCIRURGIA                                         3281\n",
              "PEDIATRIA CIRURGICA                                   3062\n",
              "UTI NEONATAL - TIPO II                                3003\n",
              "UNIDADE ISOLAMENTO                                    2875\n",
              "NEUROLOGIA                                            2587\n",
              "AIDS                                                  1870\n",
              "UNIDADE DE CUIDADOS INTERMEDIARIOS NEONATAL CO...     1861\n",
              "UTI ADULTO - TIPO III                                 1812\n",
              "NEONATOLOGIA                                          1792\n",
              "NEFROUROLOGIA                                         1785\n",
              "CIRURGICO/DIAGNOSTICO/TERAPEUTICO                     1785\n",
              "NEFROLOGIAUROLOGIA                                    1752\n",
              "SAUDE MENTAL                                          1682\n",
              "UTI PEDIATRICA - TIPO II                              1373\n",
              "UNIDADE DE CUIDADOS INTERMEDIARIOS ADULTO              999\n",
              "PLASTICA                                               901\n",
              "TRANSPLANTE                                            899\n",
              "GASTROENTEROLOGIA                                      850\n",
              "GERIATRIA                                              835\n",
              "OTORRINOLARINGOLOGIA                                   731\n",
              "OFTALMOLOGIA                                           672\n",
              "HEMATOLOGIA                                            657\n",
              "BUCO MAXILO FACIAL                                     652\n",
              "UTI NEONATAL - TIPO III                                616\n",
              "TORACICA                                               527\n",
              "UTI PEDIATRICA - TIPO III                              453\n",
              "UNIDADE DE CUIDADOS INTERMEDIARIOS NEONATAL CA...      445\n",
              "UTI ADULTO - TIPO I                                    414\n",
              "DERMATOLOGIA                                           259\n",
              "QUEIMADO ADULTO                                        213\n",
              "UTI DE QUEIMADOS                                       165\n",
              "INTERCORRENCIA POS-TRANSPLANTE                         164\n",
              "UTI CORONARIANA TIPO II - UCO TIPO II                  158\n",
              "ENDOCRINOLOGIA                                         148\n",
              "UNIDADE DE CUIDADOS INTERMEDIARIOS PEDIATRICO          124\n",
              "HANSENOLOGIA                                           110\n",
              "QUEIMADO PEDIATRICO                                     86\n",
              "UTI PEDIATRICA - TIPO I                                 51\n",
              "UTI CORONARIANA TIPO III - UCO TIPO III                 26\n",
              "FIBROSE CISTICA                                         14\n",
              "UTI NEONATAL - TIPO I                                    7\n",
              "Name: QT_SUS, dtype: int64"
            ]
          },
          "metadata": {
            "tags": []
          },
          "execution_count": 224
        }
      ]
    }
  ]
}